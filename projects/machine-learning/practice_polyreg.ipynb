{
 "cells": [
  {
   "cell_type": "code",
   "execution_count": 110,
   "metadata": {},
   "outputs": [
    {
     "name": "stdout",
     "output_type": "stream",
     "text": [
      "The lab_black extension is already loaded. To reload it, use:\n",
      "  %reload_ext lab_black\n"
     ]
    }
   ],
   "source": [
    "import pandas as pd\n",
    "import numpy as np\n",
    "from sklearn.linear_model import LinearRegression\n",
    "from sklearn.preprocessing import PolynomialFeatures\n",
    "from sklearn.pipeline import make_pipeline\n",
    "import statsmodels.api as sm\n",
    "import matplotlib.pyplot as plt\n",
    "import seaborn as sns\n",
    "import sklearn.metrics as metrics\n",
    "\n",
    "%load_ext lab_black"
   ]
  },
  {
   "cell_type": "code",
   "execution_count": 215,
   "metadata": {},
   "outputs": [],
   "source": [
    "coef = np.random.randint(low=-10, high=10, size=5)"
   ]
  },
  {
   "cell_type": "code",
   "execution_count": 231,
   "metadata": {},
   "outputs": [],
   "source": [
    "# define sample data\n",
    "degree = len(coef) - 1\n",
    "train_x = np.sort(np.random.normal(0, 1, 100))\n",
    "train_x_reshape = train_x.reshape(-1, 1)\n",
    "\n",
    "\n",
    "def f(x):\n",
    "    poly = np.poly1d(coef)\n",
    "    y = poly(x)\n",
    "    return (y, poly)\n",
    "\n",
    "\n",
    "train_y, main_func = f(train_x)"
   ]
  },
  {
   "cell_type": "code",
   "execution_count": 232,
   "metadata": {},
   "outputs": [],
   "source": [
    "# create a polynomial regressor\n",
    "polfeat = PolynomialFeatures(degree)\n",
    "polfeat.fit_transform(train_x_reshape)\n",
    "model = make_pipeline(polfeat, LinearRegression())\n",
    "model.fit(train_x_reshape, train_y)\n",
    "\n",
    "# generate test data\n",
    "test_x = np.sort(np.random.normal(0, 1, 20))\n",
    "test_y, test_func = f(test_x)\n",
    "\n",
    "# get predicted data and function\n",
    "pred_y = model.predict(test_x.reshape(-1, 1))\n",
    "pred_coef = np.append(\n",
    "    model.named_steps[\"linearregression\"].coef_[-1:0:-1],\n",
    "    model.named_steps[\"linearregression\"].intercept_,\n",
    ")\n",
    "pred_func = np.poly1d(pred_coef)"
   ]
  },
  {
   "cell_type": "code",
   "execution_count": 233,
   "metadata": {},
   "outputs": [
    {
     "data": {
      "text/plain": [
       "poly1d([ -6,  -1, -10,   7,  -4])"
      ]
     },
     "execution_count": 233,
     "metadata": {},
     "output_type": "execute_result"
    }
   ],
   "source": [
    "main_func"
   ]
  },
  {
   "cell_type": "code",
   "execution_count": 234,
   "metadata": {},
   "outputs": [
    {
     "data": {
      "text/plain": [
       "poly1d([ -6.,  -1., -10.,   7.,  -4.])"
      ]
     },
     "execution_count": 234,
     "metadata": {},
     "output_type": "execute_result"
    }
   ],
   "source": [
    "pred_func"
   ]
  },
  {
   "cell_type": "code",
   "execution_count": 235,
   "metadata": {},
   "outputs": [
    {
     "data": {
      "image/png": "[encoded data removed]",
      "text/plain": [
       "<Figure size 720x360 with 2 Axes>"
      ]
     },
     "metadata": {
      "needs_background": "light"
     },
     "output_type": "display_data"
    }
   ],
   "source": [
    "fig, axes = plt.subplots(ncols=2, figsize=(10, 5))\n",
    "\n",
    "# plot train data\n",
    "axes[0].scatter(train_x, train_y)\n",
    "# plot train func line\n",
    "axes[0].plot(train_x, train_y)\n",
    "\n",
    "# plot train data\n",
    "axes[1].scatter(train_x, train_y, c=\"orange\")\n",
    "# plot predicted func line\n",
    "axes[1].plot(test_x, pred_func(test_x))\n",
    "\n",
    "plt.tight_layout()\n",
    "plt.show()"
   ]
  },
  {
   "cell_type": "code",
   "execution_count": 229,
   "metadata": {},
   "outputs": [
    {
     "data": {
      "text/plain": [
       "array([-208.99417665,  -84.16375093,  -18.89147774,  -10.28655422,\n",
       "         -8.93981043,   -6.52323966,   -5.78644292,   -3.58062504,\n",
       "         -4.18049687, -325.67668866])"
      ]
     },
     "execution_count": 229,
     "metadata": {},
     "output_type": "execute_result"
    }
   ],
   "source": [
    "pred_y"
   ]
  },
  {
   "cell_type": "code",
   "execution_count": 230,
   "metadata": {},
   "outputs": [
    {
     "data": {
      "text/plain": [
       "array([-208.99417665,  -84.16375093,  -18.89147774,  -10.28655422,\n",
       "         -8.93981043,   -6.52323966,   -5.78644292,   -3.58062504,\n",
       "         -4.18049687, -325.67668866])"
      ]
     },
     "execution_count": 230,
     "metadata": {},
     "output_type": "execute_result"
    }
   ],
   "source": [
    "test_y"
   ]
  },
  {
   "cell_type": "code",
   "execution_count": null,
   "metadata": {},
   "outputs": [],
   "source": []
  }
 ],
 "metadata": {
  "kernelspec": {
   "display_name": "Python 3",
   "language": "python",
   "name": "python3"
  },
  "language_info": {
   "codemirror_mode": {
    "name": "ipython",
    "version": 3
   },
   "file_extension": ".py",
   "mimetype": "text/x-python",
   "name": "python",
   "nbconvert_exporter": "python",
   "pygments_lexer": "ipython3",
   "version": "3.7.6"
  }
 },
 "nbformat": 4,
 "nbformat_minor": 4
}
