{
 "cells": [
  {
   "cell_type": "code",
   "execution_count": 195,
   "metadata": {},
   "outputs": [
    {
     "name": "stdout",
     "output_type": "stream",
     "text": [
      "The lab_black extension is already loaded. To reload it, use:\n",
      "  %reload_ext lab_black\n"
     ]
    }
   ],
   "source": [
    "%load_ext lab_black\n",
    "dtype_dict = {\n",
    "    \"bathrooms\": float,\n",
    "    \"waterfront\": int,\n",
    "    \"sqft_above\": int,\n",
    "    \"sqft_living15\": float,\n",
    "    \"grade\": int,\n",
    "    \"yr_renovated\": int,\n",
    "    \"price\": float,\n",
    "    \"bedrooms\": float,\n",
    "    \"zipcode\": str,\n",
    "    \"long\": float,\n",
    "    \"sqft_lot15\": float,\n",
    "    \"sqft_living\": float,\n",
    "    \"floors\": str,\n",
    "    \"condition\": int,\n",
    "    \"lat\": float,\n",
    "    \"date\": str,\n",
    "    \"sqft_basement\": int,\n",
    "    \"yr_built\": int,\n",
    "    \"id\": str,\n",
    "    \"sqft_lot\": int,\n",
    "    \"view\": int,\n",
    "}\n",
    "train = pd.read_csv(\"kc_house_train_data.csv\", dtype=dtype_dict)\n",
    "test = pd.read_csv(\"kc_house_test_data.csv\", dtype=dtype_dict)"
   ]
  },
  {
   "cell_type": "code",
   "execution_count": 28,
   "metadata": {},
   "outputs": [
    {
     "data": {
      "text/html": [
       "<div>\n",
       "<style scoped>\n",
       "    .dataframe tbody tr th:only-of-type {\n",
       "        vertical-align: middle;\n",
       "    }\n",
       "\n",
       "    .dataframe tbody tr th {\n",
       "        vertical-align: top;\n",
       "    }\n",
       "\n",
       "    .dataframe thead th {\n",
       "        text-align: right;\n",
       "    }\n",
       "</style>\n",
       "<table border=\"1\" class=\"dataframe\">\n",
       "  <thead>\n",
       "    <tr style=\"text-align: right;\">\n",
       "      <th></th>\n",
       "      <th>id</th>\n",
       "      <th>date</th>\n",
       "      <th>price</th>\n",
       "      <th>bedrooms</th>\n",
       "      <th>bathrooms</th>\n",
       "      <th>sqft_living</th>\n",
       "      <th>sqft_lot</th>\n",
       "      <th>floors</th>\n",
       "      <th>waterfront</th>\n",
       "      <th>view</th>\n",
       "      <th>...</th>\n",
       "      <th>grade</th>\n",
       "      <th>sqft_above</th>\n",
       "      <th>sqft_basement</th>\n",
       "      <th>yr_built</th>\n",
       "      <th>yr_renovated</th>\n",
       "      <th>zipcode</th>\n",
       "      <th>lat</th>\n",
       "      <th>long</th>\n",
       "      <th>sqft_living15</th>\n",
       "      <th>sqft_lot15</th>\n",
       "    </tr>\n",
       "  </thead>\n",
       "  <tbody>\n",
       "    <tr>\n",
       "      <th>0</th>\n",
       "      <td>7129300520</td>\n",
       "      <td>20141013T000000</td>\n",
       "      <td>221900.0</td>\n",
       "      <td>3.0</td>\n",
       "      <td>1.00</td>\n",
       "      <td>1180.0</td>\n",
       "      <td>5650</td>\n",
       "      <td>1</td>\n",
       "      <td>0</td>\n",
       "      <td>0</td>\n",
       "      <td>...</td>\n",
       "      <td>7</td>\n",
       "      <td>1180</td>\n",
       "      <td>0</td>\n",
       "      <td>1955</td>\n",
       "      <td>0</td>\n",
       "      <td>98178</td>\n",
       "      <td>47.5112</td>\n",
       "      <td>-122.257</td>\n",
       "      <td>1340.0</td>\n",
       "      <td>5650.0</td>\n",
       "    </tr>\n",
       "    <tr>\n",
       "      <th>1</th>\n",
       "      <td>6414100192</td>\n",
       "      <td>20141209T000000</td>\n",
       "      <td>538000.0</td>\n",
       "      <td>3.0</td>\n",
       "      <td>2.25</td>\n",
       "      <td>2570.0</td>\n",
       "      <td>7242</td>\n",
       "      <td>2</td>\n",
       "      <td>0</td>\n",
       "      <td>0</td>\n",
       "      <td>...</td>\n",
       "      <td>7</td>\n",
       "      <td>2170</td>\n",
       "      <td>400</td>\n",
       "      <td>1951</td>\n",
       "      <td>1991</td>\n",
       "      <td>98125</td>\n",
       "      <td>47.7210</td>\n",
       "      <td>-122.319</td>\n",
       "      <td>1690.0</td>\n",
       "      <td>7639.0</td>\n",
       "    </tr>\n",
       "    <tr>\n",
       "      <th>2</th>\n",
       "      <td>5631500400</td>\n",
       "      <td>20150225T000000</td>\n",
       "      <td>180000.0</td>\n",
       "      <td>2.0</td>\n",
       "      <td>1.00</td>\n",
       "      <td>770.0</td>\n",
       "      <td>10000</td>\n",
       "      <td>1</td>\n",
       "      <td>0</td>\n",
       "      <td>0</td>\n",
       "      <td>...</td>\n",
       "      <td>6</td>\n",
       "      <td>770</td>\n",
       "      <td>0</td>\n",
       "      <td>1933</td>\n",
       "      <td>0</td>\n",
       "      <td>98028</td>\n",
       "      <td>47.7379</td>\n",
       "      <td>-122.233</td>\n",
       "      <td>2720.0</td>\n",
       "      <td>8062.0</td>\n",
       "    </tr>\n",
       "    <tr>\n",
       "      <th>3</th>\n",
       "      <td>2487200875</td>\n",
       "      <td>20141209T000000</td>\n",
       "      <td>604000.0</td>\n",
       "      <td>4.0</td>\n",
       "      <td>3.00</td>\n",
       "      <td>1960.0</td>\n",
       "      <td>5000</td>\n",
       "      <td>1</td>\n",
       "      <td>0</td>\n",
       "      <td>0</td>\n",
       "      <td>...</td>\n",
       "      <td>7</td>\n",
       "      <td>1050</td>\n",
       "      <td>910</td>\n",
       "      <td>1965</td>\n",
       "      <td>0</td>\n",
       "      <td>98136</td>\n",
       "      <td>47.5208</td>\n",
       "      <td>-122.393</td>\n",
       "      <td>1360.0</td>\n",
       "      <td>5000.0</td>\n",
       "    </tr>\n",
       "    <tr>\n",
       "      <th>4</th>\n",
       "      <td>1954400510</td>\n",
       "      <td>20150218T000000</td>\n",
       "      <td>510000.0</td>\n",
       "      <td>3.0</td>\n",
       "      <td>2.00</td>\n",
       "      <td>1680.0</td>\n",
       "      <td>8080</td>\n",
       "      <td>1</td>\n",
       "      <td>0</td>\n",
       "      <td>0</td>\n",
       "      <td>...</td>\n",
       "      <td>8</td>\n",
       "      <td>1680</td>\n",
       "      <td>0</td>\n",
       "      <td>1987</td>\n",
       "      <td>0</td>\n",
       "      <td>98074</td>\n",
       "      <td>47.6168</td>\n",
       "      <td>-122.045</td>\n",
       "      <td>1800.0</td>\n",
       "      <td>7503.0</td>\n",
       "    </tr>\n",
       "  </tbody>\n",
       "</table>\n",
       "<p>5 rows × 21 columns</p>\n",
       "</div>"
      ],
      "text/plain": [
       "           id             date     price  bedrooms  bathrooms  sqft_living  \\\n",
       "0  7129300520  20141013T000000  221900.0       3.0       1.00       1180.0   \n",
       "1  6414100192  20141209T000000  538000.0       3.0       2.25       2570.0   \n",
       "2  5631500400  20150225T000000  180000.0       2.0       1.00        770.0   \n",
       "3  2487200875  20141209T000000  604000.0       4.0       3.00       1960.0   \n",
       "4  1954400510  20150218T000000  510000.0       3.0       2.00       1680.0   \n",
       "\n",
       "   sqft_lot floors  waterfront  view  ...  grade  sqft_above  sqft_basement  \\\n",
       "0      5650      1           0     0  ...      7        1180              0   \n",
       "1      7242      2           0     0  ...      7        2170            400   \n",
       "2     10000      1           0     0  ...      6         770              0   \n",
       "3      5000      1           0     0  ...      7        1050            910   \n",
       "4      8080      1           0     0  ...      8        1680              0   \n",
       "\n",
       "   yr_built  yr_renovated  zipcode      lat     long  sqft_living15  \\\n",
       "0      1955             0    98178  47.5112 -122.257         1340.0   \n",
       "1      1951          1991    98125  47.7210 -122.319         1690.0   \n",
       "2      1933             0    98028  47.7379 -122.233         2720.0   \n",
       "3      1965             0    98136  47.5208 -122.393         1360.0   \n",
       "4      1987             0    98074  47.6168 -122.045         1800.0   \n",
       "\n",
       "   sqft_lot15  \n",
       "0      5650.0  \n",
       "1      7639.0  \n",
       "2      8062.0  \n",
       "3      5000.0  \n",
       "4      7503.0  \n",
       "\n",
       "[5 rows x 21 columns]"
      ]
     },
     "execution_count": 28,
     "metadata": {},
     "output_type": "execute_result"
    }
   ],
   "source": [
    "train.head()"
   ]
  },
  {
   "cell_type": "code",
   "execution_count": 29,
   "metadata": {},
   "outputs": [],
   "source": [
    "train[\"bd_sq\"] = train[\"bedrooms\"] ** 2\n",
    "train[\"bd_bt_rm\"] = train[\"bedrooms\"] * train[\"bathrooms\"]\n",
    "train[\"lg_sq_lv\"] = np.log(train[\"sqft_living\"])\n",
    "train[\"lat_long\"] = train[\"lat\"] + train[\"long\"]"
   ]
  },
  {
   "cell_type": "code",
   "execution_count": 53,
   "metadata": {},
   "outputs": [],
   "source": [
    "test[\"bd_sq\"] = test[\"bedrooms\"] ** 2\n",
    "test[\"bd_bt_rm\"] = test[\"bedrooms\"] * test[\"bathrooms\"]\n",
    "test[\"lg_sq_lv\"] = np.log(test[\"sqft_living\"])\n",
    "test[\"lat_long\"] = test[\"lat\"] + test[\"long\"]"
   ]
  },
  {
   "cell_type": "code",
   "execution_count": 30,
   "metadata": {},
   "outputs": [
    {
     "data": {
      "text/plain": [
       "12.174240681086056"
      ]
     },
     "execution_count": 30,
     "metadata": {},
     "output_type": "execute_result"
    }
   ],
   "source": [
    "train[\"bd_sq\"].mean()"
   ]
  },
  {
   "cell_type": "code",
   "execution_count": 31,
   "metadata": {},
   "outputs": [
    {
     "data": {
      "text/plain": [
       "7.496591693511275"
      ]
     },
     "execution_count": 31,
     "metadata": {},
     "output_type": "execute_result"
    }
   ],
   "source": [
    "train[\"bd_bt_rm\"].mean()"
   ]
  },
  {
   "cell_type": "code",
   "execution_count": 32,
   "metadata": {},
   "outputs": [
    {
     "data": {
      "text/plain": [
       "7.550349317684997"
      ]
     },
     "execution_count": 32,
     "metadata": {},
     "output_type": "execute_result"
    }
   ],
   "source": [
    "train[\"lg_sq_lv\"].mean()"
   ]
  },
  {
   "cell_type": "code",
   "execution_count": 33,
   "metadata": {},
   "outputs": [
    {
     "data": {
      "text/plain": [
       "-74.65396803382448"
      ]
     },
     "execution_count": 33,
     "metadata": {},
     "output_type": "execute_result"
    }
   ],
   "source": [
    "train[\"lat_long\"].mean()"
   ]
  },
  {
   "cell_type": "code",
   "execution_count": 34,
   "metadata": {},
   "outputs": [],
   "source": [
    "model1 = LinearRegression().fit(\n",
    "    X=train[[\"sqft_living\", \"bedrooms\", \"bathrooms\", \"lat\", \"long\"]], y=train[\"price\"]\n",
    ")"
   ]
  },
  {
   "cell_type": "code",
   "execution_count": 35,
   "metadata": {},
   "outputs": [
    {
     "data": {
      "text/plain": [
       "array([ 3.12258646e+02, -5.95865332e+04,  1.57067421e+04,  6.58619264e+05,\n",
       "       -3.09374351e+05])"
      ]
     },
     "execution_count": 35,
     "metadata": {},
     "output_type": "execute_result"
    }
   ],
   "source": [
    "model1.coef_"
   ]
  },
  {
   "cell_type": "code",
   "execution_count": 26,
   "metadata": {},
   "outputs": [
    {
     "data": {
      "text/plain": [
       "['312.258646',\n",
       " '-59586.533154',\n",
       " '15706.742083',\n",
       " '658619.263931',\n",
       " '-309374.351268']"
      ]
     },
     "execution_count": 26,
     "metadata": {},
     "output_type": "execute_result"
    }
   ],
   "source": [
    "list(map(lambda x: \"{:f}\".format(x), model1.coef_))"
   ]
  },
  {
   "cell_type": "code",
   "execution_count": 36,
   "metadata": {},
   "outputs": [
    {
     "data": {
      "text/html": [
       "<div>\n",
       "<style scoped>\n",
       "    .dataframe tbody tr th:only-of-type {\n",
       "        vertical-align: middle;\n",
       "    }\n",
       "\n",
       "    .dataframe tbody tr th {\n",
       "        vertical-align: top;\n",
       "    }\n",
       "\n",
       "    .dataframe thead th {\n",
       "        text-align: right;\n",
       "    }\n",
       "</style>\n",
       "<table border=\"1\" class=\"dataframe\">\n",
       "  <thead>\n",
       "    <tr style=\"text-align: right;\">\n",
       "      <th></th>\n",
       "      <th>sqft_living</th>\n",
       "      <th>bedrooms</th>\n",
       "      <th>bathrooms</th>\n",
       "      <th>lat</th>\n",
       "      <th>long</th>\n",
       "    </tr>\n",
       "  </thead>\n",
       "  <tbody>\n",
       "    <tr>\n",
       "      <th>0</th>\n",
       "      <td>1180.0</td>\n",
       "      <td>3.0</td>\n",
       "      <td>1.00</td>\n",
       "      <td>47.5112</td>\n",
       "      <td>-122.257</td>\n",
       "    </tr>\n",
       "    <tr>\n",
       "      <th>1</th>\n",
       "      <td>2570.0</td>\n",
       "      <td>3.0</td>\n",
       "      <td>2.25</td>\n",
       "      <td>47.7210</td>\n",
       "      <td>-122.319</td>\n",
       "    </tr>\n",
       "    <tr>\n",
       "      <th>2</th>\n",
       "      <td>770.0</td>\n",
       "      <td>2.0</td>\n",
       "      <td>1.00</td>\n",
       "      <td>47.7379</td>\n",
       "      <td>-122.233</td>\n",
       "    </tr>\n",
       "    <tr>\n",
       "      <th>3</th>\n",
       "      <td>1960.0</td>\n",
       "      <td>4.0</td>\n",
       "      <td>3.00</td>\n",
       "      <td>47.5208</td>\n",
       "      <td>-122.393</td>\n",
       "    </tr>\n",
       "    <tr>\n",
       "      <th>4</th>\n",
       "      <td>1680.0</td>\n",
       "      <td>3.0</td>\n",
       "      <td>2.00</td>\n",
       "      <td>47.6168</td>\n",
       "      <td>-122.045</td>\n",
       "    </tr>\n",
       "    <tr>\n",
       "      <th>...</th>\n",
       "      <td>...</td>\n",
       "      <td>...</td>\n",
       "      <td>...</td>\n",
       "      <td>...</td>\n",
       "      <td>...</td>\n",
       "    </tr>\n",
       "    <tr>\n",
       "      <th>17379</th>\n",
       "      <td>3510.0</td>\n",
       "      <td>4.0</td>\n",
       "      <td>3.50</td>\n",
       "      <td>47.5537</td>\n",
       "      <td>-122.398</td>\n",
       "    </tr>\n",
       "    <tr>\n",
       "      <th>17380</th>\n",
       "      <td>1310.0</td>\n",
       "      <td>3.0</td>\n",
       "      <td>2.50</td>\n",
       "      <td>47.5773</td>\n",
       "      <td>-122.409</td>\n",
       "    </tr>\n",
       "    <tr>\n",
       "      <th>17381</th>\n",
       "      <td>1530.0</td>\n",
       "      <td>3.0</td>\n",
       "      <td>2.50</td>\n",
       "      <td>47.6993</td>\n",
       "      <td>-122.346</td>\n",
       "    </tr>\n",
       "    <tr>\n",
       "      <th>17382</th>\n",
       "      <td>1600.0</td>\n",
       "      <td>3.0</td>\n",
       "      <td>2.50</td>\n",
       "      <td>47.5345</td>\n",
       "      <td>-122.069</td>\n",
       "    </tr>\n",
       "    <tr>\n",
       "      <th>17383</th>\n",
       "      <td>1020.0</td>\n",
       "      <td>2.0</td>\n",
       "      <td>0.75</td>\n",
       "      <td>47.5941</td>\n",
       "      <td>-122.299</td>\n",
       "    </tr>\n",
       "  </tbody>\n",
       "</table>\n",
       "<p>17384 rows × 5 columns</p>\n",
       "</div>"
      ],
      "text/plain": [
       "       sqft_living  bedrooms  bathrooms      lat     long\n",
       "0           1180.0       3.0       1.00  47.5112 -122.257\n",
       "1           2570.0       3.0       2.25  47.7210 -122.319\n",
       "2            770.0       2.0       1.00  47.7379 -122.233\n",
       "3           1960.0       4.0       3.00  47.5208 -122.393\n",
       "4           1680.0       3.0       2.00  47.6168 -122.045\n",
       "...            ...       ...        ...      ...      ...\n",
       "17379       3510.0       4.0       3.50  47.5537 -122.398\n",
       "17380       1310.0       3.0       2.50  47.5773 -122.409\n",
       "17381       1530.0       3.0       2.50  47.6993 -122.346\n",
       "17382       1600.0       3.0       2.50  47.5345 -122.069\n",
       "17383       1020.0       2.0       0.75  47.5941 -122.299\n",
       "\n",
       "[17384 rows x 5 columns]"
      ]
     },
     "execution_count": 36,
     "metadata": {},
     "output_type": "execute_result"
    }
   ],
   "source": [
    "train[[\"sqft_living\", \"bedrooms\", \"bathrooms\", \"lat\", \"long\"]]"
   ]
  },
  {
   "cell_type": "code",
   "execution_count": 58,
   "metadata": {},
   "outputs": [],
   "source": [
    "m1 = [\"sqft_living\", \"bedrooms\", \"bathrooms\", \"lat\", \"long\"]\n",
    "predict1 = model1.predict(test[m1])"
   ]
  },
  {
   "cell_type": "code",
   "execution_count": 46,
   "metadata": {},
   "outputs": [],
   "source": [
    "m2 = [\"sqft_living\", \"bedrooms\", \"bathrooms\", \"lat\", \"long\", \"bd_bt_rm\"]\n",
    "model2 = LinearRegression().fit(X=train[m2], y=train[\"price\"])"
   ]
  },
  {
   "cell_type": "code",
   "execution_count": 47,
   "metadata": {},
   "outputs": [
    {
     "data": {
      "text/plain": [
       "['306.610053',\n",
       " '-113446.368070',\n",
       " '-71461.308293',\n",
       " '654844.629503',\n",
       " '-294298.969138',\n",
       " '25579.652001']"
      ]
     },
     "execution_count": 47,
     "metadata": {},
     "output_type": "execute_result"
    }
   ],
   "source": [
    "list(map(lambda x: \"{:f}\".format(x), model2.coef_))"
   ]
  },
  {
   "cell_type": "code",
   "execution_count": 54,
   "metadata": {},
   "outputs": [],
   "source": [
    "predict2 = model2.predict(test[m2])"
   ]
  },
  {
   "cell_type": "code",
   "execution_count": 56,
   "metadata": {},
   "outputs": [
    {
     "data": {
      "text/plain": [
       "52820397960.857765"
      ]
     },
     "execution_count": 56,
     "metadata": {},
     "output_type": "execute_result"
    }
   ],
   "source": [
    "metrics.mean_squared_error(test[\"price\"], predict2)"
   ]
  },
  {
   "cell_type": "code",
   "execution_count": 59,
   "metadata": {},
   "outputs": [
    {
     "data": {
      "text/plain": [
       "53322409504.72697"
      ]
     },
     "execution_count": 59,
     "metadata": {},
     "output_type": "execute_result"
    }
   ],
   "source": [
    "metrics.mean_squared_error(test[\"price\"], predict1)"
   ]
  },
  {
   "cell_type": "code",
   "execution_count": 64,
   "metadata": {},
   "outputs": [],
   "source": [
    "m3 = [\n",
    "    \"sqft_living\",\n",
    "    \"bedrooms\",\n",
    "    \"bathrooms\",\n",
    "    \"lat\",\n",
    "    \"long\",\n",
    "    \"bd_bt_rm\",\n",
    "    \"bd_sq\",\n",
    "    \"lg_sq_lv\",\n",
    "    \"lat_long\",\n",
    "]\n",
    "model3 = LinearRegression().fit(X=train[m3], y=train[\"price\"])"
   ]
  },
  {
   "cell_type": "code",
   "execution_count": 65,
   "metadata": {},
   "outputs": [],
   "source": [
    "predict3 = model3.predict(test[m3])"
   ]
  },
  {
   "cell_type": "code",
   "execution_count": 66,
   "metadata": {},
   "outputs": [
    {
     "data": {
      "text/plain": [
       "61299673494.249214"
      ]
     },
     "execution_count": 66,
     "metadata": {},
     "output_type": "execute_result"
    }
   ],
   "source": [
    "metrics.mean_squared_error(test[\"price\"], predict3)"
   ]
  },
  {
   "cell_type": "code",
   "execution_count": 77,
   "metadata": {},
   "outputs": [
    {
     "data": {
      "text/plain": [
       "61299673494.24762"
      ]
     },
     "execution_count": 77,
     "metadata": {},
     "output_type": "execute_result"
    }
   ],
   "source": [
    "m4 = [\n",
    "    \"sqft_living\",\n",
    "    \"bedrooms\",\n",
    "    \"bathrooms\",\n",
    "    \"lat\",\n",
    "    \"long\",\n",
    "    \"bd_bt_rm\",\n",
    "    \"bd_sq\",\n",
    "    \"lg_sq_lv\",\n",
    "]\n",
    "model4 = LinearRegression().fit(X=train[m4], y=train[\"price\"])\n",
    "predict4 = model4.predict(test[m4])\n",
    "metrics.mean_squared_error(test[\"price\"], predict4)"
   ]
  },
  {
   "cell_type": "code",
   "execution_count": 73,
   "metadata": {},
   "outputs": [
    {
     "data": {
      "text/plain": [
       "array([ 5.29422820e+02,  3.45142296e+04,  6.70607813e+04,  6.61420511e+05,\n",
       "       -2.79415811e+05, -8.57050439e+03, -6.78858667e+03, -5.61831484e+05])"
      ]
     },
     "execution_count": 73,
     "metadata": {},
     "output_type": "execute_result"
    }
   ],
   "source": [
    "model4.coef_"
   ]
  },
  {
   "cell_type": "code",
   "execution_count": 78,
   "metadata": {},
   "outputs": [
    {
     "data": {
      "text/plain": [
       "73320984358.15662"
      ]
     },
     "execution_count": 78,
     "metadata": {},
     "output_type": "execute_result"
    }
   ],
   "source": [
    "m5 = [\"sqft_living\", \"bedrooms\", \"bathrooms\", \"lat\", \"long\", \"bd_bt_rm\", \"bd_sq\"]\n",
    "model5 = LinearRegression().fit(X=train[m5], y=train[\"price\"])\n",
    "predict5 = model5.predict(test[m5])\n",
    "metrics.mean_squared_error(test[\"price\"], predict5)"
   ]
  },
  {
   "cell_type": "code",
   "execution_count": 79,
   "metadata": {},
   "outputs": [
    {
     "data": {
      "text/plain": [
       "53322409504.72697"
      ]
     },
     "execution_count": 79,
     "metadata": {},
     "output_type": "execute_result"
    }
   ],
   "source": [
    "metrics.mean_squared_error(test[\"price\"], predict1)"
   ]
  },
  {
   "cell_type": "code",
   "execution_count": 80,
   "metadata": {},
   "outputs": [
    {
     "data": {
      "text/plain": [
       "52820397960.857765"
      ]
     },
     "execution_count": 80,
     "metadata": {},
     "output_type": "execute_result"
    }
   ],
   "source": [
    "metrics.mean_squared_error(test[\"price\"], predict2)"
   ]
  },
  {
   "cell_type": "code",
   "execution_count": 81,
   "metadata": {},
   "outputs": [
    {
     "data": {
      "text/plain": [
       "61299673494.249214"
      ]
     },
     "execution_count": 81,
     "metadata": {},
     "output_type": "execute_result"
    }
   ],
   "source": [
    "metrics.mean_squared_error(test[\"price\"], predict3)"
   ]
  },
  {
   "cell_type": "code",
   "execution_count": 82,
   "metadata": {},
   "outputs": [
    {
     "data": {
      "text/plain": [
       "61299673494.24762"
      ]
     },
     "execution_count": 82,
     "metadata": {},
     "output_type": "execute_result"
    }
   ],
   "source": [
    "metrics.mean_squared_error(test[\"price\"], predict4)"
   ]
  },
  {
   "cell_type": "code",
   "execution_count": 85,
   "metadata": {},
   "outputs": [
    {
     "data": {
      "text/plain": [
       "232780153512.3215"
      ]
     },
     "execution_count": 85,
     "metadata": {},
     "output_type": "execute_result"
    }
   ],
   "source": [
    "metrics.mean_squared_error(train.loc[: len(predict1) - 1, \"price\"], predict1)"
   ]
  },
  {
   "cell_type": "code",
   "execution_count": 86,
   "metadata": {},
   "outputs": [
    {
     "data": {
      "text/plain": [
       "232700342102.3729"
      ]
     },
     "execution_count": 86,
     "metadata": {},
     "output_type": "execute_result"
    }
   ],
   "source": [
    "metrics.mean_squared_error(train.loc[: len(predict2) - 1, \"price\"], predict2)"
   ]
  },
  {
   "cell_type": "code",
   "execution_count": 87,
   "metadata": {},
   "outputs": [
    {
     "data": {
      "text/plain": [
       "245879897083.9835"
      ]
     },
     "execution_count": 87,
     "metadata": {},
     "output_type": "execute_result"
    }
   ],
   "source": [
    "metrics.mean_squared_error(train.loc[: len(predict3) - 1, \"price\"], predict3)"
   ]
  },
  {
   "cell_type": "code",
   "execution_count": 96,
   "metadata": {},
   "outputs": [],
   "source": [
    "model1_s = sm.OLS(train[\"price\"], train[m1])\n",
    "res1 = model1_s.fit()"
   ]
  },
  {
   "cell_type": "code",
   "execution_count": 97,
   "metadata": {},
   "outputs": [
    {
     "name": "stdout",
     "output_type": "stream",
     "text": [
      "                                 OLS Regression Results                                \n",
      "=======================================================================================\n",
      "Dep. Variable:                  price   R-squared (uncentered):                   0.857\n",
      "Model:                            OLS   Adj. R-squared (uncentered):              0.857\n",
      "Method:                 Least Squares   F-statistic:                          2.076e+04\n",
      "Date:                Tue, 26 May 2020   Prob (F-statistic):                        0.00\n",
      "Time:                        21:29:06   Log-Likelihood:                     -2.4057e+05\n",
      "No. Observations:               17384   AIC:                                  4.811e+05\n",
      "Df Residuals:                   17379   BIC:                                  4.812e+05\n",
      "Df Model:                           5                                                  \n",
      "Covariance Type:            nonrobust                                                  \n",
      "===============================================================================\n",
      "                  coef    std err          t      P>|t|      [0.025      0.975]\n",
      "-------------------------------------------------------------------------------\n",
      "sqft_living   300.9637      3.328     90.425      0.000     294.440     307.487\n",
      "bedrooms    -5.955e+04   2605.415    -22.858      0.000   -6.47e+04   -5.44e+04\n",
      "bathrooms    5321.0773   3755.240      1.417      0.157   -2039.570    1.27e+04\n",
      "lat          5.326e+05   1.34e+04     39.813      0.000    5.06e+05    5.59e+05\n",
      "long         2.064e+05   5203.273     39.671      0.000    1.96e+05    2.17e+05\n",
      "==============================================================================\n",
      "Omnibus:                    13054.402   Durbin-Watson:                   2.001\n",
      "Prob(Omnibus):                  0.000   Jarque-Bera (JB):           580540.827\n",
      "Skew:                           3.174   Prob(JB):                         0.00\n",
      "Kurtosis:                      30.590   Cond. No.                     1.74e+04\n",
      "==============================================================================\n",
      "\n",
      "Warnings:\n",
      "[1] Standard Errors assume that the covariance matrix of the errors is correctly specified.\n",
      "[2] The condition number is large, 1.74e+04. This might indicate that there are\n",
      "strong multicollinearity or other numerical problems.\n"
     ]
    }
   ],
   "source": [
    "print(res1.summary())"
   ]
  },
  {
   "cell_type": "code",
   "execution_count": 98,
   "metadata": {},
   "outputs": [
    {
     "data": {
      "text/plain": [
       "array([ 3.12258646e+02, -5.95865332e+04,  1.57067421e+04,  6.58619264e+05,\n",
       "       -3.09374351e+05])"
      ]
     },
     "execution_count": 98,
     "metadata": {},
     "output_type": "execute_result"
    }
   ],
   "source": [
    "model1.coef_"
   ]
  },
  {
   "cell_type": "code",
   "execution_count": 99,
   "metadata": {},
   "outputs": [
    {
     "data": {
      "text/plain": [
       "0.5801585583483893"
      ]
     },
     "execution_count": 99,
     "metadata": {},
     "output_type": "execute_result"
    }
   ],
   "source": [
    "metrics.r2_score(test[\"price\"], predict1)"
   ]
  },
  {
   "cell_type": "code",
   "execution_count": 100,
   "metadata": {},
   "outputs": [],
   "source": [
    "predict1_s = res1.predict(test[m1])"
   ]
  },
  {
   "cell_type": "code",
   "execution_count": 103,
   "metadata": {},
   "outputs": [
    {
     "data": {
      "text/plain": [
       "0.5336832756897372"
      ]
     },
     "execution_count": 103,
     "metadata": {},
     "output_type": "execute_result"
    }
   ],
   "source": [
    "metrics.r2_score(test[\"price\"], predict1_s)"
   ]
  },
  {
   "cell_type": "markdown",
   "metadata": {},
   "source": [
    "# Sample Polynomial Regression"
   ]
  },
  {
   "cell_type": "code",
   "execution_count": 257,
   "metadata": {},
   "outputs": [
    {
     "data": {
      "text/plain": [
       "array([[ 1.,  0.,  1.,  0.,  0.,  1.],\n",
       "       [ 1.,  2.,  3.,  4.,  6.,  9.],\n",
       "       [ 1.,  4.,  5., 16., 20., 25.]])"
      ]
     },
     "execution_count": 257,
     "metadata": {},
     "output_type": "execute_result"
    }
   ],
   "source": [
    "X = np.arange(6).reshape(3, 2)\n",
    "poly = PolynomialFeatures(degree=2)\n",
    "poly.fit_transform(X)"
   ]
  },
  {
   "cell_type": "code",
   "execution_count": 259,
   "metadata": {},
   "outputs": [
    {
     "data": {
      "text/plain": [
       "(3, 2)"
      ]
     },
     "execution_count": 259,
     "metadata": {},
     "output_type": "execute_result"
    }
   ],
   "source": [
    "X.shape"
   ]
  },
  {
   "cell_type": "code",
   "execution_count": 3,
   "metadata": {},
   "outputs": [
    {
     "ename": "NameError",
     "evalue": "name 'Pipeline' is not defined",
     "output_type": "error",
     "traceback": [
      "\u001b[0;31m---------------------------------------------------------------------------\u001b[0m",
      "\u001b[0;31mNameError\u001b[0m                                 Traceback (most recent call last)",
      "\u001b[0;32m<ipython-input-3-c6ac31b1206b>\u001b[0m in \u001b[0;36m<module>\u001b[0;34m\u001b[0m\n\u001b[0;32m----> 1\u001b[0;31m model = Pipeline(\n\u001b[0m\u001b[1;32m      2\u001b[0m     [\n\u001b[1;32m      3\u001b[0m         \u001b[0;34m(\u001b[0m\u001b[0;34m\"poly\"\u001b[0m\u001b[0;34m,\u001b[0m \u001b[0mPolynomialFeatures\u001b[0m\u001b[0;34m(\u001b[0m\u001b[0mdegree\u001b[0m\u001b[0;34m=\u001b[0m\u001b[0;36m3\u001b[0m\u001b[0;34m)\u001b[0m\u001b[0;34m)\u001b[0m\u001b[0;34m,\u001b[0m\u001b[0;34m\u001b[0m\u001b[0;34m\u001b[0m\u001b[0m\n\u001b[1;32m      4\u001b[0m         \u001b[0;34m(\u001b[0m\u001b[0;34m\"linear\"\u001b[0m\u001b[0;34m,\u001b[0m \u001b[0mLinearRegression\u001b[0m\u001b[0;34m(\u001b[0m\u001b[0mfit_intercept\u001b[0m\u001b[0;34m=\u001b[0m\u001b[0;32mFalse\u001b[0m\u001b[0;34m)\u001b[0m\u001b[0;34m)\u001b[0m\u001b[0;34m,\u001b[0m\u001b[0;34m\u001b[0m\u001b[0;34m\u001b[0m\u001b[0m\n\u001b[1;32m      5\u001b[0m     ]\n",
      "\u001b[0;31mNameError\u001b[0m: name 'Pipeline' is not defined"
     ]
    }
   ],
   "source": [
    "model = Pipeline(\n",
    "    [\n",
    "        (\"poly\", PolynomialFeatures(degree=3)),\n",
    "        (\"linear\", LinearRegression(fit_intercept=False)),\n",
    "    ]\n",
    ")"
   ]
  },
  {
   "cell_type": "code",
   "execution_count": 111,
   "metadata": {},
   "outputs": [],
   "source": [
    "x = np.arange(5)\n",
    "y = 3 - 2 * x + x ** 2 - x ** 3"
   ]
  },
  {
   "cell_type": "code",
   "execution_count": 112,
   "metadata": {},
   "outputs": [
    {
     "data": {
      "text/plain": [
       "array([[0],\n",
       "       [1],\n",
       "       [2],\n",
       "       [3],\n",
       "       [4]])"
      ]
     },
     "execution_count": 112,
     "metadata": {},
     "output_type": "execute_result"
    }
   ],
   "source": [
    "x[:, np.newaxis]"
   ]
  },
  {
   "cell_type": "code",
   "execution_count": 114,
   "metadata": {},
   "outputs": [
    {
     "data": {
      "text/plain": [
       "array([[0],\n",
       "       [1],\n",
       "       [2],\n",
       "       [3],\n",
       "       [4]])"
      ]
     },
     "execution_count": 114,
     "metadata": {},
     "output_type": "execute_result"
    }
   ],
   "source": [
    "x.reshape(-1, 1)"
   ]
  },
  {
   "cell_type": "code",
   "execution_count": 115,
   "metadata": {},
   "outputs": [],
   "source": [
    "model = model.fit(x[:, np.newaxis], y)"
   ]
  },
  {
   "cell_type": "code",
   "execution_count": 116,
   "metadata": {},
   "outputs": [
    {
     "data": {
      "text/plain": [
       "{'poly': PolynomialFeatures(degree=3, include_bias=True, interaction_only=False,\n",
       "                    order='C'),\n",
       " 'linear': LinearRegression(copy_X=True, fit_intercept=False, n_jobs=None, normalize=False)}"
      ]
     },
     "execution_count": 116,
     "metadata": {},
     "output_type": "execute_result"
    }
   ],
   "source": [
    "model.named_steps"
   ]
  },
  {
   "cell_type": "code",
   "execution_count": 117,
   "metadata": {},
   "outputs": [
    {
     "data": {
      "text/plain": [
       "array([ 3., -2.,  1., -1.])"
      ]
     },
     "execution_count": 117,
     "metadata": {},
     "output_type": "execute_result"
    }
   ],
   "source": [
    "model.named_steps[\"linear\"].coef_"
   ]
  },
  {
   "cell_type": "markdown",
   "metadata": {},
   "source": [
    "# Polynomial, Single Feature Linear Reg"
   ]
  },
  {
   "cell_type": "code",
   "execution_count": 213,
   "metadata": {},
   "outputs": [],
   "source": [
    "def regline(x, pipeline):\n",
    "    coef = np.append(\n",
    "        pipeline.named_steps[\"linear\"].coef_[-1:0:-1],\n",
    "        pipeline.named_steps[\"linear\"].intercept_,\n",
    "    )\n",
    "    poly = np.poly1d(coef)\n",
    "    reg_y = poly(x)\n",
    "    return (reg_y, poly)"
   ]
  },
  {
   "cell_type": "code",
   "execution_count": 236,
   "metadata": {},
   "outputs": [],
   "source": [
    "def polyModel(degree):\n",
    "    reshaped_x = train[\"sqft_living\"].values.reshape(-1, 1)\n",
    "    y = train[\"price\"]\n",
    "    poly1 = PolynomialFeatures(degree)\n",
    "    poly1.fit_transform(reshaped_x)\n",
    "\n",
    "    pmodel1 = Pipeline([(\"poly1\", poly1), (\"linear\", LinearRegression())])\n",
    "    pmodel1.fit(reshaped_x, y)\n",
    "    return pmodel1\n",
    "\n",
    "\n",
    "# create model2, same feature sqft_living but with degree=2\n",
    "pmodel2 = polyModel(2)"
   ]
  },
  {
   "cell_type": "code",
   "execution_count": 240,
   "metadata": {},
   "outputs": [
    {
     "data": {
      "image/png": "[encoded data removed]",
      "text/plain": [
       "<Figure size 720x360 with 2 Axes>"
      ]
     },
     "metadata": {
      "needs_background": "light"
     },
     "output_type": "display_data"
    }
   ],
   "source": [
    "# extract test data\n",
    "partial = test[[\"sqft_living\", \"price\"]].sort_values(by=\"sqft_living\")\n",
    "x = partial[\"sqft_living\"]\n",
    "y = partial[\"price\"]\n",
    "\n",
    "ppredict2 = pmodel2.predict(x.values.reshape(-1, 1))\n",
    "\n",
    "fig, axes = plt.subplots(ncols=2, figsize=(10, 5))\n",
    "\n",
    "# true data\n",
    "axes[0].scatter(x, y, c=\"orange\")\n",
    "# predicted regression line\n",
    "reg_y, poly = regline(x, pmodel2)\n",
    "axes[0].plot(x.values, reg_y)\n",
    "\n",
    "# true data\n",
    "axes[1].scatter(x, y, c=\"orange\")\n",
    "# predicted data\n",
    "axes[1].scatter(x.values, ppredict2)\n",
    "\n",
    "plt.tight_layout()\n",
    "plt.show()"
   ]
  },
  {
   "cell_type": "code",
   "execution_count": 249,
   "metadata": {},
   "outputs": [],
   "source": [
    "# create new model, same feature sqft_living but with degree=15\n",
    "pmodel15 = polyModel(15)"
   ]
  },
  {
   "cell_type": "code",
   "execution_count": 250,
   "metadata": {},
   "outputs": [
    {
     "data": {
      "image/png": "[encoded data removed]",
      "text/plain": [
       "<Figure size 720x360 with 2 Axes>"
      ]
     },
     "metadata": {
      "needs_background": "light"
     },
     "output_type": "display_data"
    }
   ],
   "source": [
    "# extract test data\n",
    "partial = test[[\"sqft_living\", \"price\"]].sort_values(by=\"sqft_living\")\n",
    "x = partial[\"sqft_living\"]\n",
    "y = partial[\"price\"]\n",
    "\n",
    "ppredict15 = pmodel15.predict(x.values.reshape(-1, 1))\n",
    "\n",
    "fig, axes = plt.subplots(ncols=2, figsize=(10, 5))\n",
    "\n",
    "# true data\n",
    "axes[0].scatter(x, y, c=\"orange\")\n",
    "# predicted regression line\n",
    "reg_y15, poly15 = regline(x, pmodel15)\n",
    "axes[0].plot(x.values, reg_y15)\n",
    "\n",
    "# true data\n",
    "axes[1].scatter(x, y, c=\"orange\")\n",
    "# predicted data\n",
    "axes[1].scatter(x.values, ppredict15)\n",
    "\n",
    "plt.tight_layout()\n",
    "plt.show()"
   ]
  },
  {
   "cell_type": "code",
   "execution_count": 247,
   "metadata": {},
   "outputs": [
    {
     "data": {
      "text/plain": [
       "poly1d([-1.15385297e-13,  2.23535992e-09, -1.36813837e-05,  7.89536037e-02,\n",
       "        5.56253210e-05,  2.46250055e+05])"
      ]
     },
     "execution_count": 247,
     "metadata": {},
     "output_type": "execute_result"
    }
   ],
   "source": [
    "poly5"
   ]
  },
  {
   "cell_type": "code",
   "execution_count": 251,
   "metadata": {},
   "outputs": [
    {
     "data": {
      "text/plain": [
       "array([-1.04855297, -1.42001794, -1.70627019,  1.9507754 , -0.50965218,\n",
       "       -0.4380743 , -1.25279536,  0.77749036, -1.61389785, -0.21274028,\n",
       "       -0.89546656,  0.3869025 , -0.51080514, -1.18063218, -0.02818223,\n",
       "        0.42833187,  0.06651722,  0.3024719 , -0.63432209, -0.36274117,\n",
       "       -0.67246045, -0.35955316, -0.81314628, -1.7262826 ,  0.17742614,\n",
       "       -0.40178094, -1.63019835,  0.46278226, -0.90729836,  0.0519454 ,\n",
       "        0.72909056,  0.12898291,  1.13940068, -1.23482582,  0.40234164,\n",
       "       -0.68481009, -0.87079715, -0.57884966, -0.31155253,  0.05616534,\n",
       "       -1.16514984,  0.90082649,  0.46566244, -1.53624369,  1.48825219,\n",
       "        1.89588918,  1.17877957, -0.17992484, -1.07075262,  1.05445173,\n",
       "       -0.40317695,  1.22244507,  0.20827498,  0.97663904,  0.3563664 ,\n",
       "        0.70657317,  0.01050002,  1.78587049,  0.12691209,  0.40198936,\n",
       "        1.8831507 , -1.34775906, -1.270485  ,  0.96939671, -1.17312341,\n",
       "        1.94362119, -0.41361898, -0.74745481,  1.92294203,  1.48051479])"
      ]
     },
     "execution_count": 251,
     "metadata": {},
     "output_type": "execute_result"
    }
   ],
   "source": [
    "np.random.normal(0, 1, 70)"
   ]
  },
  {
   "cell_type": "markdown",
   "metadata": {},
   "source": [
    "# Polynomial, Multiple Feature"
   ]
  },
  {
   "cell_type": "code",
   "execution_count": 290,
   "metadata": {},
   "outputs": [
    {
     "data": {
      "text/plain": [
       "Pipeline(memory=None,\n",
       "         steps=[('polmul',\n",
       "                 PolynomialFeatures(degree=2, include_bias=True,\n",
       "                                    interaction_only=False, order='C')),\n",
       "                ('linear',\n",
       "                 LinearRegression(copy_X=True, fit_intercept=True, n_jobs=None,\n",
       "                                  normalize=False))],\n",
       "         verbose=False)"
      ]
     },
     "execution_count": 290,
     "metadata": {},
     "output_type": "execute_result"
    }
   ],
   "source": [
    "features = [\"sqft_living\", \"bedrooms\"]\n",
    "target = \"price\"\n",
    "x = train[features]\n",
    "y = train[target]\n",
    "polmul = PolynomialFeatures(degree=2)\n",
    "polmul.fit_transform(x)\n",
    "\n",
    "pm_model = Pipeline([(\"polmul\", polmul), (\"linear\", LinearRegression())])\n",
    "pm_model.fit(x, y)"
   ]
  },
  {
   "cell_type": "code",
   "execution_count": 291,
   "metadata": {},
   "outputs": [],
   "source": [
    "pmpred = pm_model.predict(test[features])\n",
    "\n",
    "# extract test data\n",
    "partial = test[features + [target]].sort_values(by=features)\n",
    "test_x = partial[features]\n",
    "test_y = partial[target]\n",
    "\n",
    "coef = np.append(\n",
    "    pm_model.named_steps[\"linear\"].coef_[-1:0:-1],\n",
    "    pm_model.named_steps[\"linear\"].intercept_,\n",
    ")"
   ]
  },
  {
   "cell_type": "code",
   "execution_count": 292,
   "metadata": {},
   "outputs": [
    {
     "data": {
      "text/plain": [
       "190359014373.71188"
      ]
     },
     "execution_count": 292,
     "metadata": {},
     "output_type": "execute_result"
    }
   ],
   "source": [
    "metrics.mean_squared_error(test_y, pmpred)"
   ]
  },
  {
   "cell_type": "code",
   "execution_count": 293,
   "metadata": {},
   "outputs": [
    {
     "data": {
      "text/plain": [
       "array([ 0.00000000e+00,  1.55445590e+02, -6.42748133e+04,  3.81031495e-02,\n",
       "       -1.60321446e+01,  7.77237456e+03])"
      ]
     },
     "execution_count": 293,
     "metadata": {},
     "output_type": "execute_result"
    }
   ],
   "source": [
    "pm_model.named_steps[\"linear\"].coef_"
   ]
  },
  {
   "cell_type": "code",
   "execution_count": 294,
   "metadata": {},
   "outputs": [
    {
     "data": {
      "text/plain": [
       "261035.66843894206"
      ]
     },
     "execution_count": 294,
     "metadata": {},
     "output_type": "execute_result"
    }
   ],
   "source": [
    "pm_model.named_steps[\"linear\"].intercept_"
   ]
  },
  {
   "cell_type": "code",
   "execution_count": 295,
   "metadata": {},
   "outputs": [
    {
     "data": {
      "text/plain": [
       "array([ 233588.29811946,  241312.32088397,  243412.80716077, ...,\n",
       "       3036566.54958105, 4468150.76557573, 6098824.03328201])"
      ]
     },
     "execution_count": 295,
     "metadata": {},
     "output_type": "execute_result"
    }
   ],
   "source": [
    "np.sort(pmpred)"
   ]
  },
  {
   "cell_type": "code",
   "execution_count": 296,
   "metadata": {},
   "outputs": [
    {
     "data": {
      "text/plain": [
       "3009     276000.0\n",
       "4175     245000.0\n",
       "1675     325000.0\n",
       "2800     280000.0\n",
       "3418     145000.0\n",
       "          ...    \n",
       "315     1300000.0\n",
       "2507    3100000.0\n",
       "1265    1940000.0\n",
       "2722    1680000.0\n",
       "1814    6885000.0\n",
       "Name: price, Length: 4229, dtype: float64"
      ]
     },
     "execution_count": 296,
     "metadata": {},
     "output_type": "execute_result"
    }
   ],
   "source": [
    "test_y"
   ]
  },
  {
   "cell_type": "markdown",
   "metadata": {},
   "source": [
    "### Conclusion: makes no sense with high mean squared error"
   ]
  }
 ],
 "metadata": {
  "kernelspec": {
   "display_name": "Python 3",
   "language": "python",
   "name": "python3"
  },
  "language_info": {
   "codemirror_mode": {
    "name": "ipython",
    "version": 3
   },
   "file_extension": ".py",
   "mimetype": "text/x-python",
   "name": "python",
   "nbconvert_exporter": "python",
   "pygments_lexer": "ipython3",
   "version": "3.7.6"
  }
 },
 "nbformat": 4,
 "nbformat_minor": 4
}
