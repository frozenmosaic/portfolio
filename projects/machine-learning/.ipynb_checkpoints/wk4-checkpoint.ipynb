{
 "cells": [
  {
   "cell_type": "code",
   "execution_count": 1,
   "metadata": {},
   "outputs": [],
   "source": [
    "import pandas as pd\n",
    "import numpy as np\n",
    "import matplotlib.pyplot as plt\n",
    "from sklearn.linear_model import LinearRegression\n",
    "from sklearn.linear_model import Ridge\n",
    "from sklearn.preprocessing import PolynomialFeatures\n",
    "from sklearn.pipeline import Pipeline\n",
    "import sklearn.metrics as metrics\n",
    "\n",
    "%load_ext lab_black"
   ]
  },
  {
   "cell_type": "code",
   "execution_count": 3,
   "metadata": {},
   "outputs": [],
   "source": [
    "dtype_dict = {\n",
    "    \"bathrooms\": float,\n",
    "    \"waterfront\": int,\n",
    "    \"sqft_above\": int,\n",
    "    \"sqft_living15\": float,\n",
    "    \"grade\": int,\n",
    "    \"yr_renovated\": int,\n",
    "    \"price\": float,\n",
    "    \"bedrooms\": float,\n",
    "    \"zipcode\": str,\n",
    "    \"long\": float,\n",
    "    \"sqft_lot15\": float,\n",
    "    \"sqft_living\": float,\n",
    "    \"floors\": str,\n",
    "    \"condition\": int,\n",
    "    \"lat\": float,\n",
    "    \"date\": str,\n",
    "    \"sqft_basement\": int,\n",
    "    \"yr_built\": int,\n",
    "    \"id\": str,\n",
    "    \"sqft_lot\": int,\n",
    "    \"view\": int,\n",
    "}"
   ]
  },
  {
   "cell_type": "code",
   "execution_count": 4,
   "metadata": {},
   "outputs": [],
   "source": [
    "test = pd.read_csv(\n",
    "    \"housing-data_polynomial/wk3_kc_house_test_data.csv\", dtype=dtype_dict\n",
    ")\n",
    "train = pd.read_csv(\n",
    "    \"housing-data_polynomial/wk3_kc_house_test_data.csv\", dtype=dtype_dict\n",
    ")\n",
    "valid = pd.read_csv(\n",
    "    \"housing-data_polynomial/wk3_kc_house_test_data.csv\", dtype=dtype_dict\n",
    ")"
   ]
  },
  {
   "cell_type": "code",
   "execution_count": 63,
   "metadata": {},
   "outputs": [],
   "source": [
    "set1 = pd.read_csv(\n",
    "    \"housing-data_polynomial/wk3_kc_house_set_1_data.csv\", dtype=dtype_dict\n",
    ")\n",
    "set2 = pd.read_csv(\n",
    "    \"housing-data_polynomial/wk3_kc_house_set_2_data.csv\", dtype=dtype_dict\n",
    ")\n",
    "set3 = pd.read_csv(\n",
    "    \"housing-data_polynomial/wk3_kc_house_set_3_data.csv\", dtype=dtype_dict\n",
    ")\n",
    "set4 = pd.read_csv(\n",
    "    \"housing-data_polynomial/wk3_kc_house_set_4_data.csv\", dtype=dtype_dict\n",
    ")\n",
    "\n",
    "\n",
    "def createDf(i):\n",
    "    path = \"housing-data_polynomial/wk3_kc_house_set_\" + str(i) + \"_data.csv\"\n",
    "    df = pd.read_csv(path, dtype=dtype_dict)\n",
    "    return df"
   ]
  },
  {
   "cell_type": "code",
   "execution_count": 16,
   "metadata": {},
   "outputs": [],
   "source": [
    "# build a polynomial model\n",
    "feature = \"sqft_living\"\n",
    "target = \"price\"\n",
    "l2_small_penalty = 1.5e-5\n",
    "\n",
    "\n",
    "def process(data):\n",
    "\n",
    "    partial = data[[feature, target]].sort_values(by=feature)\n",
    "    x_reshape = partial[feature].values.reshape(-1, 1)\n",
    "    y = partial[target]\n",
    "\n",
    "    return (x_reshape, y)\n",
    "\n",
    "\n",
    "def ridgeModel(degree, alpha):\n",
    "    train_x_reshape, train_y = process(train)\n",
    "    poly = PolynomialFeatures(degree)\n",
    "    poly.fit_transform(train_x_reshape)\n",
    "\n",
    "    model = Pipeline([(\"poly\", poly), (\"ridge\", Ridge(alpha, normalize=True))])\n",
    "    model.fit(train_x_reshape, train_y)\n",
    "\n",
    "    pred = model.predict(train_x_reshape)\n",
    "    coef = model.named_steps[\"ridge\"].coef_\n",
    "    mse = metrics.mean_squared_error(train_y, pred)\n",
    "\n",
    "    return dict(zip((\"model\", \"pred\", \"coef\", \"mse\"), (model, pred, coef, mse)))"
   ]
  },
  {
   "cell_type": "code",
   "execution_count": 17,
   "metadata": {},
   "outputs": [],
   "source": [
    "# degree 15, small l2 penalty\n",
    "model_15sm = ridgeModel(15, l2_small_penalty)"
   ]
  },
  {
   "cell_type": "code",
   "execution_count": 18,
   "metadata": {},
   "outputs": [
    {
     "data": {
      "text/plain": [
       "array([ 0.00000000e+00,  3.13970178e+02, -1.01296366e-01,  1.32626175e-05,\n",
       "        3.68212296e-09,  5.09182513e-14, -5.26139454e-17, -7.51592812e-21,\n",
       "       -4.61991715e-25,  7.59572278e-30,  4.98835610e-33,  5.87223001e-37,\n",
       "        3.60531258e-41,  9.01340905e-46,  2.88728088e-49,  1.70766518e-52])"
      ]
     },
     "execution_count": 18,
     "metadata": {},
     "output_type": "execute_result"
    }
   ],
   "source": [
    "model_15sm[\"coef\"]"
   ]
  },
  {
   "cell_type": "code",
   "execution_count": 19,
   "metadata": {},
   "outputs": [],
   "source": [
    "l2_small_penalty = 1e-9\n",
    "\n",
    "\n",
    "def ridgeModelSet(data_set, degree, alpha):\n",
    "    x_reshape, y = process(data_set)\n",
    "\n",
    "    poly = PolynomialFeatures(degree)\n",
    "    poly.fit_transform(x_reshape)\n",
    "\n",
    "    model = Pipeline([(\"poly\", poly), (\"ridge\", Ridge(alpha, normalize=True))])\n",
    "    model.fit(x_reshape, y)\n",
    "\n",
    "    pred = model.predict(x_reshape)\n",
    "    coef = model.named_steps[\"ridge\"].coef_\n",
    "    mse = metrics.mean_squared_error(y, pred)\n",
    "\n",
    "    return dict(zip((\"model\", \"pred\", \"coef\", \"mse\"), (model, pred, coef, mse)))"
   ]
  },
  {
   "cell_type": "code",
   "execution_count": 61,
   "metadata": {},
   "outputs": [],
   "source": [
    "m1 = ridgeModelSet(set1, 15, l2_small_penalty)\n",
    "m2 = ridgeModelSet(set2, 15, l2_small_penalty)\n",
    "m3 = ridgeModelSet(set3, 15, l2_small_penalty)\n",
    "m4 = ridgeModelSet(set4, 15, l2_small_penalty)\n",
    "models = [m1, m2, m3, m4]"
   ]
  },
  {
   "cell_type": "code",
   "execution_count": 27,
   "metadata": {},
   "outputs": [],
   "source": [
    "def polyFunc(model):\n",
    "    coef = np.append(\n",
    "        model.named_steps[\"ridge\"].coef_[-1:0:-1],\n",
    "        model.named_steps[\"ridge\"].intercept_,\n",
    "    )\n",
    "    poly = np.poly1d(coef)\n",
    "    return poly\n",
    "\n",
    "\n",
    "\"\"\"\n",
    "plot training data and predicted function as a line\n",
    "\"\"\"\n",
    "\n",
    "\n",
    "def plotResults(data_set, model, ax):\n",
    "    x_reshape, y = process(data_set)\n",
    "\n",
    "    fig, ax = plt.subplots(figsize=(10, 5))\n",
    "\n",
    "    # true data\n",
    "    ax.scatter(x_reshape, y, c=\"orange\")\n",
    "    # predicted regression line\n",
    "    poly = polyFunc(model)\n",
    "    ax.plot(x_reshape, poly(x_reshape))"
   ]
  },
  {
   "cell_type": "code",
   "execution_count": 67,
   "metadata": {},
   "outputs": [
    {
     "ename": "IndexError",
     "evalue": "list index out of range",
     "output_type": "error",
     "traceback": [
      "\u001b[0;31m---------------------------------------------------------------------------\u001b[0m",
      "\u001b[0;31mIndexError\u001b[0m                                Traceback (most recent call last)",
      "\u001b[0;32m<ipython-input-67-fefe6637ab48>\u001b[0m in \u001b[0;36m<module>\u001b[0;34m\u001b[0m\n\u001b[1;32m      4\u001b[0m \u001b[0mplotResults\u001b[0m\u001b[0;34m(\u001b[0m\u001b[0mset2\u001b[0m\u001b[0;34m,\u001b[0m \u001b[0mmodels\u001b[0m\u001b[0;34m[\u001b[0m\u001b[0;36m2\u001b[0m\u001b[0;34m]\u001b[0m\u001b[0;34m[\u001b[0m\u001b[0;34m\"model\"\u001b[0m\u001b[0;34m]\u001b[0m\u001b[0;34m,\u001b[0m \u001b[0maxes\u001b[0m\u001b[0;34m[\u001b[0m\u001b[0;36m1\u001b[0m\u001b[0;34m]\u001b[0m\u001b[0;34m)\u001b[0m\u001b[0;34m\u001b[0m\u001b[0;34m\u001b[0m\u001b[0m\n\u001b[1;32m      5\u001b[0m \u001b[0mplotResults\u001b[0m\u001b[0;34m(\u001b[0m\u001b[0mset3\u001b[0m\u001b[0;34m,\u001b[0m \u001b[0mmodels\u001b[0m\u001b[0;34m[\u001b[0m\u001b[0;36m3\u001b[0m\u001b[0;34m]\u001b[0m\u001b[0;34m[\u001b[0m\u001b[0;34m\"model\"\u001b[0m\u001b[0;34m]\u001b[0m\u001b[0;34m,\u001b[0m \u001b[0maxes\u001b[0m\u001b[0;34m[\u001b[0m\u001b[0;36m2\u001b[0m\u001b[0;34m]\u001b[0m\u001b[0;34m)\u001b[0m\u001b[0;34m\u001b[0m\u001b[0;34m\u001b[0m\u001b[0m\n\u001b[0;32m----> 6\u001b[0;31m \u001b[0mplotResults\u001b[0m\u001b[0;34m(\u001b[0m\u001b[0mset4\u001b[0m\u001b[0;34m,\u001b[0m \u001b[0mmodels\u001b[0m\u001b[0;34m[\u001b[0m\u001b[0;36m4\u001b[0m\u001b[0;34m]\u001b[0m\u001b[0;34m[\u001b[0m\u001b[0;34m\"model\"\u001b[0m\u001b[0;34m]\u001b[0m\u001b[0;34m,\u001b[0m \u001b[0maxes\u001b[0m\u001b[0;34m[\u001b[0m\u001b[0;36m3\u001b[0m\u001b[0;34m]\u001b[0m\u001b[0;34m)\u001b[0m\u001b[0;34m\u001b[0m\u001b[0;34m\u001b[0m\u001b[0m\n\u001b[0m",
      "\u001b[0;31mIndexError\u001b[0m: list index out of range"
     ]
    },
    {
     "data": {
      "image/png": "[encoded data removed]",
      "text/plain": [
       "<Figure size 1080x360 with 4 Axes>"
      ]
     },
     "metadata": {
      "needs_background": "light"
     },
     "output_type": "display_data"
    },
    {
     "data": {
      "image/png": "[encoded data removed]",
      "text/plain": [
       "<Figure size 720x360 with 1 Axes>"
      ]
     },
     "metadata": {
      "needs_background": "light"
     },
     "output_type": "display_data"
    },
    {
     "data": {
      "image/png": "[encoded data removed]",
      "text/plain": [
       "<Figure size 720x360 with 1 Axes>"
      ]
     },
     "metadata": {
      "needs_background": "light"
     },
     "output_type": "display_data"
    },
    {
     "data": {
      "image/png": "[encoded data removed]",
      "text/plain": [
       "<Figure size 720x360 with 1 Axes>"
      ]
     },
     "metadata": {
      "needs_background": "light"
     },
     "output_type": "display_data"
    }
   ],
   "source": [
    "fig, axes = plt.subplots(ncols=4, figsize=(15, 5))\n",
    "\n",
    "plotResults(set1, models[1][\"model\"], axes[0])\n",
    "plotResults(set2, models[2][\"model\"], axes[1])\n",
    "plotResults(set3, models[3][\"model\"], axes[2])\n",
    "plotResults(set4, models[4][\"model\"], axes[3])"
   ]
  },
  {
   "cell_type": "code",
   "execution_count": 37,
   "metadata": {},
   "outputs": [
    {
     "data": {
      "text/plain": [
       "(              id             date      price  bedrooms  bathrooms  \\\n",
       " 0     8658300340  20140523T000000    80000.0       1.0       0.75   \n",
       " 1     1352300580  20141114T000000   247000.0       1.0       1.00   \n",
       " 2     1320069249  20141020T000000   192500.0       1.0       1.00   \n",
       " 3     1437500015  20140709T000000   150000.0       3.0       0.75   \n",
       " 4     0859000110  20141002T000000   125000.0       1.0       1.00   \n",
       " ...          ...              ...        ...       ...        ...   \n",
       " 5399  8907500070  20150413T000000  5350000.0       5.0       5.00   \n",
       " 5400  1247600105  20141020T000000  5110800.0       5.0       5.25   \n",
       " 5401  2303900035  20140611T000000  2888000.0       5.0       6.25   \n",
       " 5402  6762700020  20141013T000000  7700000.0       6.0       8.00   \n",
       " 5403  1225069038  20140505T000000  2280000.0       7.0       8.00   \n",
       " \n",
       "       sqft_living  sqft_lot floors  waterfront  view  ...  grade  sqft_above  \\\n",
       " 0           430.0      5050      1           0     0  ...      4         430   \n",
       " 1           460.0      4120      1           0     0  ...      4         460   \n",
       " 2           470.0     63737      1           0     2  ...      5         470   \n",
       " 3           490.0     38500    1.5           0     0  ...      5         490   \n",
       " 4           500.0      7440      1           0     0  ...      5         500   \n",
       " ...           ...       ...    ...         ...   ...  ...    ...         ...   \n",
       " 5399       8000.0     23985      2           0     4  ...     12        6720   \n",
       " 5400       8010.0     45517      2           1     4  ...     12        5990   \n",
       " 5401       8670.0     64033      2           0     4  ...     13        6120   \n",
       " 5402      12050.0     27600    2.5           0     3  ...     13        8570   \n",
       " 5403      13540.0    307752      3           0     4  ...     12        9410   \n",
       " \n",
       "       sqft_basement  yr_built  yr_renovated  zipcode      lat     long  \\\n",
       " 0                 0      1912             0    98014  47.6499 -121.909   \n",
       " 1                 0      1937             0    98055  47.4868 -122.199   \n",
       " 2                 0      1924             0    98022  47.2163 -121.984   \n",
       " 3                 0      1959             0    98014  47.7112 -121.315   \n",
       " 4                 0      1928             0    98106  47.5252 -122.362   \n",
       " ...             ...       ...           ...      ...      ...      ...   \n",
       " 5399           1280      2009             0    98004  47.6232 -122.220   \n",
       " 5400           2020      1999             0    98033  47.6767 -122.211   \n",
       " 5401           2550      1965          2003    98177  47.7295 -122.372   \n",
       " 5402           3480      1910          1987    98102  47.6298 -122.323   \n",
       " 5403           4130      1999             0    98053  47.6675 -121.986   \n",
       " \n",
       "       sqft_living15  sqft_lot15  \n",
       " 0            1200.0      7500.0  \n",
       " 1             990.0      4120.0  \n",
       " 2            1350.0     46762.0  \n",
       " 3             800.0     18297.0  \n",
       " 4            1350.0      7440.0  \n",
       " ...             ...         ...  \n",
       " 5399         4600.0     21750.0  \n",
       " 5400         3430.0     26788.0  \n",
       " 5401         4140.0     81021.0  \n",
       " 5402         3940.0      8800.0  \n",
       " 5403         4850.0    217800.0  \n",
       " \n",
       " [5404 rows x 21 columns],)"
      ]
     },
     "execution_count": 37,
     "metadata": {},
     "output_type": "execute_result"
    }
   ],
   "source": [
    "sets[0]"
   ]
  },
  {
   "cell_type": "code",
   "execution_count": null,
   "metadata": {},
   "outputs": [],
   "source": []
  }
 ],
 "metadata": {
  "kernelspec": {
   "display_name": "Python 3",
   "language": "python",
   "name": "python3"
  },
  "language_info": {
   "codemirror_mode": {
    "name": "ipython",
    "version": 3
   },
   "file_extension": ".py",
   "mimetype": "text/x-python",
   "name": "python",
   "nbconvert_exporter": "python",
   "pygments_lexer": "ipython3",
   "version": "3.7.6"
  }
 },
 "nbformat": 4,
 "nbformat_minor": 4
}
