{
 "cells": [
  {
   "cell_type": "code",
   "execution_count": 1,
   "metadata": {},
   "outputs": [],
   "source": [
    "import pandas as pd\n",
    "import numpy as np\n",
    "import matplotlib.pyplot as plt\n",
    "from sklearn.linear_model import LinearRegression\n",
    "from sklearn.linear_model import Ridge\n",
    "from sklearn.preprocessing import PolynomialFeatures\n",
    "from sklearn.pipeline import Pipeline\n",
    "import sklearn.metrics as metrics\n",
    "\n",
    "%load_ext lab_black"
   ]
  },
  {
   "cell_type": "code",
   "execution_count": 3,
   "metadata": {},
   "outputs": [],
   "source": [
    "dtype_dict = {\n",
    "    \"bathrooms\": float,\n",
    "    \"waterfront\": int,\n",
    "    \"sqft_above\": int,\n",
    "    \"sqft_living15\": float,\n",
    "    \"grade\": int,\n",
    "    \"yr_renovated\": int,\n",
    "    \"price\": float,\n",
    "    \"bedrooms\": float,\n",
    "    \"zipcode\": str,\n",
    "    \"long\": float,\n",
    "    \"sqft_lot15\": float,\n",
    "    \"sqft_living\": float,\n",
    "    \"floors\": str,\n",
    "    \"condition\": int,\n",
    "    \"lat\": float,\n",
    "    \"date\": str,\n",
    "    \"sqft_basement\": int,\n",
    "    \"yr_built\": int,\n",
    "    \"id\": str,\n",
    "    \"sqft_lot\": int,\n",
    "    \"view\": int,\n",
    "}"
   ]
  },
  {
   "cell_type": "code",
   "execution_count": 4,
   "metadata": {},
   "outputs": [],
   "source": [
    "test = pd.read_csv(\n",
    "    \"housing-data_polynomial/wk3_kc_house_test_data.csv\", dtype=dtype_dict\n",
    ")\n",
    "train = pd.read_csv(\n",
    "    \"housing-data_polynomial/wk3_kc_house_test_data.csv\", dtype=dtype_dict\n",
    ")\n",
    "valid = pd.read_csv(\n",
    "    \"housing-data_polynomial/wk3_kc_house_test_data.csv\", dtype=dtype_dict\n",
    ")"
   ]
  },
  {
   "cell_type": "code",
   "execution_count": 90,
   "metadata": {},
   "outputs": [],
   "source": [
    "def createDfSets():\n",
    "    sets = []\n",
    "    for i in range(1, 5):\n",
    "        path = \"housing-data_polynomial/wk3_kc_house_set_\" + str(i) + \"_data.csv\"\n",
    "        df = pd.read_csv(path, dtype=dtype_dict)\n",
    "        sets.append(df)\n",
    "    return sets\n",
    "\n",
    "\n",
    "sets = createDfSets()"
   ]
  },
  {
   "cell_type": "code",
   "execution_count": 310,
   "metadata": {},
   "outputs": [],
   "source": [
    "# build a polynomial model\n",
    "feature = \"sqft_living\"\n",
    "target = \"price\"\n",
    "l2_small_penalty = 1.5e-5\n",
    "\n",
    "\n",
    "def process(data, features):\n",
    "\n",
    "    partial = data[[f for f in features] + [target]].sort_values(by=features)\n",
    "    x_reshape = (\n",
    "        partial[features].values.reshape(-1, 1)\n",
    "        if len(features) == 1\n",
    "        else partial[features]\n",
    "    )\n",
    "    y = partial[target]\n",
    "\n",
    "    return (x_reshape, y)\n",
    "\n",
    "\n",
    "def ridgeModel(degree, alpha):\n",
    "    train_x_reshape, train_y = process(train)\n",
    "    poly = PolynomialFeatures(degree)\n",
    "    poly.fit_transform(train_x_reshape)\n",
    "\n",
    "    model = Pipeline([(\"poly\", poly), (\"ridge\", Ridge(alpha, normalize=True))])\n",
    "    model.fit(train_x_reshape, train_y)\n",
    "\n",
    "    pred = model.predict(train_x_reshape)\n",
    "    coef = model.named_steps[\"ridge\"].coef_\n",
    "\n",
    "    return dict(zip((\"model\", \"pred\", \"coef\"), (model, pred, coef)))"
   ]
  },
  {
   "cell_type": "code",
   "execution_count": 17,
   "metadata": {},
   "outputs": [],
   "source": [
    "# degree 15, small l2 penalty\n",
    "model_15sm = ridgeModel(15, l2_small_penalty)"
   ]
  },
  {
   "cell_type": "code",
   "execution_count": 18,
   "metadata": {},
   "outputs": [
    {
     "data": {
      "text/plain": [
       "array([ 0.00000000e+00,  3.13970178e+02, -1.01296366e-01,  1.32626175e-05,\n",
       "        3.68212296e-09,  5.09182513e-14, -5.26139454e-17, -7.51592812e-21,\n",
       "       -4.61991715e-25,  7.59572278e-30,  4.98835610e-33,  5.87223001e-37,\n",
       "        3.60531258e-41,  9.01340905e-46,  2.88728088e-49,  1.70766518e-52])"
      ]
     },
     "execution_count": 18,
     "metadata": {},
     "output_type": "execute_result"
    }
   ],
   "source": [
    "model_15sm[\"coef\"]"
   ]
  },
  {
   "cell_type": "code",
   "execution_count": 19,
   "metadata": {},
   "outputs": [],
   "source": [
    "l2_small_penalty = 1e-9\n",
    "\n",
    "\n",
    "def ridgeModelSet(data_set, degree, alpha):\n",
    "    x_reshape, y = process(data_set)\n",
    "\n",
    "    poly = PolynomialFeatures(degree)\n",
    "    poly.fit_transform(x_reshape)\n",
    "\n",
    "    model = Pipeline([(\"poly\", poly), (\"ridge\", Ridge(alpha, normalize=True))])\n",
    "    model.fit(x_reshape, y)\n",
    "\n",
    "    pred = model.predict(x_reshape)\n",
    "    coef = model.named_steps[\"ridge\"].coef_\n",
    "    mse = metrics.mean_squared_error(y, pred)\n",
    "\n",
    "    return dict(zip((\"model\", \"pred\", \"coef\", \"mse\"), (model, pred, coef, mse)))"
   ]
  },
  {
   "cell_type": "code",
   "execution_count": 94,
   "metadata": {},
   "outputs": [],
   "source": [
    "models_sm = [ridgeModelSet(sets[i], 15, l2_small_penalty) for i in range(4)]"
   ]
  },
  {
   "cell_type": "code",
   "execution_count": 72,
   "metadata": {},
   "outputs": [],
   "source": [
    "def polyFunc(model):\n",
    "    coef = np.append(\n",
    "        model.named_steps[\"ridge\"].coef_[-1:0:-1],\n",
    "        model.named_steps[\"ridge\"].intercept_,\n",
    "    )\n",
    "    poly = np.poly1d(coef)\n",
    "    return poly\n",
    "\n",
    "\n",
    "\"\"\"\n",
    "plot training data and predicted function as a line\n",
    "\"\"\"\n",
    "\n",
    "\n",
    "def plotResults(data_set, model, ax):\n",
    "    x_reshape, y = process(data_set)\n",
    "\n",
    "    # true data\n",
    "    ax.scatter(x_reshape, y, c=\"orange\")\n",
    "    # predicted regression line\n",
    "    poly = polyFunc(model)\n",
    "    ax.plot(x_reshape, poly(x_reshape))"
   ]
  },
  {
   "cell_type": "code",
   "execution_count": 95,
   "metadata": {},
   "outputs": [
    {
     "data": {
      "image/png": "[encoded data removed]",
      "text/plain": [
       "<Figure size 1440x360 with 4 Axes>"
      ]
     },
     "metadata": {
      "needs_background": "light"
     },
     "output_type": "display_data"
    }
   ],
   "source": [
    "fig, axes = plt.subplots(ncols=4, figsize=(20, 5))\n",
    "for i in range(4):\n",
    "    plotResults(sets[i], models_sm[i][\"model\"], axes[i])\n",
    "\n",
    "plt.tight_layout()"
   ]
  },
  {
   "cell_type": "code",
   "execution_count": 77,
   "metadata": {},
   "outputs": [
    {
     "data": {
      "text/plain": [
       "[544.6694079091435, 859.3626594796898, -755.395908963675, 1119.4456687499899]"
      ]
     },
     "execution_count": 77,
     "metadata": {},
     "output_type": "execute_result"
    }
   ],
   "source": [
    "[m[\"coef\"][1] for m in models]"
   ]
  },
  {
   "cell_type": "markdown",
   "metadata": {},
   "source": [
    "# Ridge Regression"
   ]
  },
  {
   "cell_type": "code",
   "execution_count": 96,
   "metadata": {},
   "outputs": [],
   "source": [
    "l2_large_penalty = 1.23e2\n",
    "models_lg = [ridgeModelSet(sets[i], 15, l2_large_penalty) for i in range(4)]"
   ]
  },
  {
   "cell_type": "code",
   "execution_count": 97,
   "metadata": {},
   "outputs": [
    {
     "data": {
      "image/png": "[encoded data removed]",
      "text/plain": [
       "<Figure size 1440x360 with 4 Axes>"
      ]
     },
     "metadata": {
      "needs_background": "light"
     },
     "output_type": "display_data"
    }
   ],
   "source": [
    "fig, axes = plt.subplots(ncols=4, figsize=(20, 5))\n",
    "for i in range(4):\n",
    "    plotResults(sets[i], models_lg[i][\"model\"], axes[i])\n",
    "\n",
    "plt.tight_layout()"
   ]
  },
  {
   "cell_type": "code",
   "execution_count": 98,
   "metadata": {},
   "outputs": [
    {
     "data": {
      "text/plain": [
       "[2.3280680295793235, 2.097569027778553, 2.289062581189204, 2.085961940919308]"
      ]
     },
     "execution_count": 98,
     "metadata": {},
     "output_type": "execute_result"
    }
   ],
   "source": [
    "[m[\"coef\"][1] for m in models_lg]"
   ]
  },
  {
   "cell_type": "markdown",
   "metadata": {},
   "source": [
    "# Implementing Cross Validation by using KFold"
   ]
  },
  {
   "cell_type": "code",
   "execution_count": 135,
   "metadata": {},
   "outputs": [],
   "source": [
    "from sklearn.model_selection import KFold\n",
    "\n",
    "tv_shuf = pd.read_csv(\n",
    "    \"housing-data_polynomial/wk3_kc_house_train_valid_shuffled.csv\", dtype=dtype_dict\n",
    ")\n",
    "degree = 15\n",
    "l2_penalty = np.logspace(3, 9, num=13)\n",
    "\n",
    "n_folds = 10\n",
    "cv = KFold(n_splits=n_folds)\n",
    "ind = [(train, test) for train, test in cv.split(tv_shuf)]"
   ]
  },
  {
   "cell_type": "code",
   "execution_count": 226,
   "metadata": {},
   "outputs": [],
   "source": [
    "def ridgeModelCV(degree, alpha, train_x_reshape, train_y):\n",
    "\n",
    "    poly = PolynomialFeatures(degree)\n",
    "    poly.fit_transform(train_x_reshape)\n",
    "\n",
    "    model = Pipeline([(\"poly\", poly), (\"ridge\", Ridge(alpha, normalize=True))])\n",
    "    model.fit(train_x_reshape, train_y)\n",
    "\n",
    "    return model\n",
    "\n",
    "\n",
    "errors = []\n",
    "for i in range(10):\n",
    "    train_set = tv_shuf.loc[ind[i][0]]\n",
    "    test_set = tv_shuf.loc[ind[i][1]]\n",
    "    train_x_reshape, train_y = process(train_set)\n",
    "    test_x_reshape, test_y = process(test_set)\n",
    "    for l in l2_penalty:\n",
    "        cvm = ridgeModelCV(degree, l, train_x_reshape, train_y)\n",
    "        pred_y = cvm.predict(test_x_reshape)\n",
    "        errors.append(metrics.mean_squared_error(test_y, pred_y))"
   ]
  },
  {
   "cell_type": "code",
   "execution_count": 228,
   "metadata": {},
   "outputs": [],
   "source": [
    "# print errors into DataFrame and apply styling\n",
    "\n",
    "cols = []\n",
    "colsname = []\n",
    "step = 13\n",
    "for i in range(0, len(errors), step):\n",
    "    cols.append(errors[i : i + step])\n",
    "    colsname.append(\"k-\" + str(i // step))\n",
    "errorsDf = pd.DataFrame(data=dict(zip(colsname, cols)))\n",
    "\n",
    "def color_min_red(col):\n",
    "    col = errorsDf[\"k-9\"]\n",
    "    colors = [\"color: red\" if c == col.min() else \"color: black\" for c in col]\n",
    "    return colors\n",
    "\n",
    "errorsDf.style.apply(color_min_red).format(\"{:e}\")"
   ]
  },
  {
   "cell_type": "code",
   "execution_count": 252,
   "metadata": {},
   "outputs": [
    {
     "data": {
      "text/html": [
       "<style  type=\"text/css\" >\n",
       "    #T_f2e964ae_a137_11ea_ab2e_a45e60cf5e39row0_col0 {\n",
       "            color:  red;\n",
       "        }    #T_f2e964ae_a137_11ea_ab2e_a45e60cf5e39row0_col1 {\n",
       "            color:  red;\n",
       "        }    #T_f2e964ae_a137_11ea_ab2e_a45e60cf5e39row0_col2 {\n",
       "            color:  red;\n",
       "        }    #T_f2e964ae_a137_11ea_ab2e_a45e60cf5e39row0_col3 {\n",
       "            color:  red;\n",
       "        }    #T_f2e964ae_a137_11ea_ab2e_a45e60cf5e39row0_col4 {\n",
       "            color:  red;\n",
       "        }    #T_f2e964ae_a137_11ea_ab2e_a45e60cf5e39row0_col5 {\n",
       "            color:  red;\n",
       "        }    #T_f2e964ae_a137_11ea_ab2e_a45e60cf5e39row0_col6 {\n",
       "            color:  red;\n",
       "        }    #T_f2e964ae_a137_11ea_ab2e_a45e60cf5e39row0_col7 {\n",
       "            color:  red;\n",
       "        }    #T_f2e964ae_a137_11ea_ab2e_a45e60cf5e39row0_col8 {\n",
       "            color:  red;\n",
       "        }    #T_f2e964ae_a137_11ea_ab2e_a45e60cf5e39row0_col9 {\n",
       "            color:  red;\n",
       "        }    #T_f2e964ae_a137_11ea_ab2e_a45e60cf5e39row1_col0 {\n",
       "            color:  black;\n",
       "        }    #T_f2e964ae_a137_11ea_ab2e_a45e60cf5e39row1_col1 {\n",
       "            color:  black;\n",
       "        }    #T_f2e964ae_a137_11ea_ab2e_a45e60cf5e39row1_col2 {\n",
       "            color:  black;\n",
       "        }    #T_f2e964ae_a137_11ea_ab2e_a45e60cf5e39row1_col3 {\n",
       "            color:  black;\n",
       "        }    #T_f2e964ae_a137_11ea_ab2e_a45e60cf5e39row1_col4 {\n",
       "            color:  black;\n",
       "        }    #T_f2e964ae_a137_11ea_ab2e_a45e60cf5e39row1_col5 {\n",
       "            color:  black;\n",
       "        }    #T_f2e964ae_a137_11ea_ab2e_a45e60cf5e39row1_col6 {\n",
       "            color:  black;\n",
       "        }    #T_f2e964ae_a137_11ea_ab2e_a45e60cf5e39row1_col7 {\n",
       "            color:  black;\n",
       "        }    #T_f2e964ae_a137_11ea_ab2e_a45e60cf5e39row1_col8 {\n",
       "            color:  black;\n",
       "        }    #T_f2e964ae_a137_11ea_ab2e_a45e60cf5e39row1_col9 {\n",
       "            color:  black;\n",
       "        }    #T_f2e964ae_a137_11ea_ab2e_a45e60cf5e39row2_col0 {\n",
       "            color:  black;\n",
       "        }    #T_f2e964ae_a137_11ea_ab2e_a45e60cf5e39row2_col1 {\n",
       "            color:  black;\n",
       "        }    #T_f2e964ae_a137_11ea_ab2e_a45e60cf5e39row2_col2 {\n",
       "            color:  black;\n",
       "        }    #T_f2e964ae_a137_11ea_ab2e_a45e60cf5e39row2_col3 {\n",
       "            color:  black;\n",
       "        }    #T_f2e964ae_a137_11ea_ab2e_a45e60cf5e39row2_col4 {\n",
       "            color:  black;\n",
       "        }    #T_f2e964ae_a137_11ea_ab2e_a45e60cf5e39row2_col5 {\n",
       "            color:  black;\n",
       "        }    #T_f2e964ae_a137_11ea_ab2e_a45e60cf5e39row2_col6 {\n",
       "            color:  black;\n",
       "        }    #T_f2e964ae_a137_11ea_ab2e_a45e60cf5e39row2_col7 {\n",
       "            color:  black;\n",
       "        }    #T_f2e964ae_a137_11ea_ab2e_a45e60cf5e39row2_col8 {\n",
       "            color:  black;\n",
       "        }    #T_f2e964ae_a137_11ea_ab2e_a45e60cf5e39row2_col9 {\n",
       "            color:  black;\n",
       "        }    #T_f2e964ae_a137_11ea_ab2e_a45e60cf5e39row3_col0 {\n",
       "            color:  black;\n",
       "        }    #T_f2e964ae_a137_11ea_ab2e_a45e60cf5e39row3_col1 {\n",
       "            color:  black;\n",
       "        }    #T_f2e964ae_a137_11ea_ab2e_a45e60cf5e39row3_col2 {\n",
       "            color:  black;\n",
       "        }    #T_f2e964ae_a137_11ea_ab2e_a45e60cf5e39row3_col3 {\n",
       "            color:  black;\n",
       "        }    #T_f2e964ae_a137_11ea_ab2e_a45e60cf5e39row3_col4 {\n",
       "            color:  black;\n",
       "        }    #T_f2e964ae_a137_11ea_ab2e_a45e60cf5e39row3_col5 {\n",
       "            color:  black;\n",
       "        }    #T_f2e964ae_a137_11ea_ab2e_a45e60cf5e39row3_col6 {\n",
       "            color:  black;\n",
       "        }    #T_f2e964ae_a137_11ea_ab2e_a45e60cf5e39row3_col7 {\n",
       "            color:  black;\n",
       "        }    #T_f2e964ae_a137_11ea_ab2e_a45e60cf5e39row3_col8 {\n",
       "            color:  black;\n",
       "        }    #T_f2e964ae_a137_11ea_ab2e_a45e60cf5e39row3_col9 {\n",
       "            color:  black;\n",
       "        }    #T_f2e964ae_a137_11ea_ab2e_a45e60cf5e39row4_col0 {\n",
       "            color:  black;\n",
       "        }    #T_f2e964ae_a137_11ea_ab2e_a45e60cf5e39row4_col1 {\n",
       "            color:  black;\n",
       "        }    #T_f2e964ae_a137_11ea_ab2e_a45e60cf5e39row4_col2 {\n",
       "            color:  black;\n",
       "        }    #T_f2e964ae_a137_11ea_ab2e_a45e60cf5e39row4_col3 {\n",
       "            color:  black;\n",
       "        }    #T_f2e964ae_a137_11ea_ab2e_a45e60cf5e39row4_col4 {\n",
       "            color:  black;\n",
       "        }    #T_f2e964ae_a137_11ea_ab2e_a45e60cf5e39row4_col5 {\n",
       "            color:  black;\n",
       "        }    #T_f2e964ae_a137_11ea_ab2e_a45e60cf5e39row4_col6 {\n",
       "            color:  black;\n",
       "        }    #T_f2e964ae_a137_11ea_ab2e_a45e60cf5e39row4_col7 {\n",
       "            color:  black;\n",
       "        }    #T_f2e964ae_a137_11ea_ab2e_a45e60cf5e39row4_col8 {\n",
       "            color:  black;\n",
       "        }    #T_f2e964ae_a137_11ea_ab2e_a45e60cf5e39row4_col9 {\n",
       "            color:  black;\n",
       "        }    #T_f2e964ae_a137_11ea_ab2e_a45e60cf5e39row5_col0 {\n",
       "            color:  black;\n",
       "        }    #T_f2e964ae_a137_11ea_ab2e_a45e60cf5e39row5_col1 {\n",
       "            color:  black;\n",
       "        }    #T_f2e964ae_a137_11ea_ab2e_a45e60cf5e39row5_col2 {\n",
       "            color:  black;\n",
       "        }    #T_f2e964ae_a137_11ea_ab2e_a45e60cf5e39row5_col3 {\n",
       "            color:  black;\n",
       "        }    #T_f2e964ae_a137_11ea_ab2e_a45e60cf5e39row5_col4 {\n",
       "            color:  black;\n",
       "        }    #T_f2e964ae_a137_11ea_ab2e_a45e60cf5e39row5_col5 {\n",
       "            color:  black;\n",
       "        }    #T_f2e964ae_a137_11ea_ab2e_a45e60cf5e39row5_col6 {\n",
       "            color:  black;\n",
       "        }    #T_f2e964ae_a137_11ea_ab2e_a45e60cf5e39row5_col7 {\n",
       "            color:  black;\n",
       "        }    #T_f2e964ae_a137_11ea_ab2e_a45e60cf5e39row5_col8 {\n",
       "            color:  black;\n",
       "        }    #T_f2e964ae_a137_11ea_ab2e_a45e60cf5e39row5_col9 {\n",
       "            color:  black;\n",
       "        }    #T_f2e964ae_a137_11ea_ab2e_a45e60cf5e39row6_col0 {\n",
       "            color:  black;\n",
       "        }    #T_f2e964ae_a137_11ea_ab2e_a45e60cf5e39row6_col1 {\n",
       "            color:  black;\n",
       "        }    #T_f2e964ae_a137_11ea_ab2e_a45e60cf5e39row6_col2 {\n",
       "            color:  black;\n",
       "        }    #T_f2e964ae_a137_11ea_ab2e_a45e60cf5e39row6_col3 {\n",
       "            color:  black;\n",
       "        }    #T_f2e964ae_a137_11ea_ab2e_a45e60cf5e39row6_col4 {\n",
       "            color:  black;\n",
       "        }    #T_f2e964ae_a137_11ea_ab2e_a45e60cf5e39row6_col5 {\n",
       "            color:  black;\n",
       "        }    #T_f2e964ae_a137_11ea_ab2e_a45e60cf5e39row6_col6 {\n",
       "            color:  black;\n",
       "        }    #T_f2e964ae_a137_11ea_ab2e_a45e60cf5e39row6_col7 {\n",
       "            color:  black;\n",
       "        }    #T_f2e964ae_a137_11ea_ab2e_a45e60cf5e39row6_col8 {\n",
       "            color:  black;\n",
       "        }    #T_f2e964ae_a137_11ea_ab2e_a45e60cf5e39row6_col9 {\n",
       "            color:  black;\n",
       "        }    #T_f2e964ae_a137_11ea_ab2e_a45e60cf5e39row7_col0 {\n",
       "            color:  black;\n",
       "        }    #T_f2e964ae_a137_11ea_ab2e_a45e60cf5e39row7_col1 {\n",
       "            color:  black;\n",
       "        }    #T_f2e964ae_a137_11ea_ab2e_a45e60cf5e39row7_col2 {\n",
       "            color:  black;\n",
       "        }    #T_f2e964ae_a137_11ea_ab2e_a45e60cf5e39row7_col3 {\n",
       "            color:  black;\n",
       "        }    #T_f2e964ae_a137_11ea_ab2e_a45e60cf5e39row7_col4 {\n",
       "            color:  black;\n",
       "        }    #T_f2e964ae_a137_11ea_ab2e_a45e60cf5e39row7_col5 {\n",
       "            color:  black;\n",
       "        }    #T_f2e964ae_a137_11ea_ab2e_a45e60cf5e39row7_col6 {\n",
       "            color:  black;\n",
       "        }    #T_f2e964ae_a137_11ea_ab2e_a45e60cf5e39row7_col7 {\n",
       "            color:  black;\n",
       "        }    #T_f2e964ae_a137_11ea_ab2e_a45e60cf5e39row7_col8 {\n",
       "            color:  black;\n",
       "        }    #T_f2e964ae_a137_11ea_ab2e_a45e60cf5e39row7_col9 {\n",
       "            color:  black;\n",
       "        }    #T_f2e964ae_a137_11ea_ab2e_a45e60cf5e39row8_col0 {\n",
       "            color:  black;\n",
       "        }    #T_f2e964ae_a137_11ea_ab2e_a45e60cf5e39row8_col1 {\n",
       "            color:  black;\n",
       "        }    #T_f2e964ae_a137_11ea_ab2e_a45e60cf5e39row8_col2 {\n",
       "            color:  black;\n",
       "        }    #T_f2e964ae_a137_11ea_ab2e_a45e60cf5e39row8_col3 {\n",
       "            color:  black;\n",
       "        }    #T_f2e964ae_a137_11ea_ab2e_a45e60cf5e39row8_col4 {\n",
       "            color:  black;\n",
       "        }    #T_f2e964ae_a137_11ea_ab2e_a45e60cf5e39row8_col5 {\n",
       "            color:  black;\n",
       "        }    #T_f2e964ae_a137_11ea_ab2e_a45e60cf5e39row8_col6 {\n",
       "            color:  black;\n",
       "        }    #T_f2e964ae_a137_11ea_ab2e_a45e60cf5e39row8_col7 {\n",
       "            color:  black;\n",
       "        }    #T_f2e964ae_a137_11ea_ab2e_a45e60cf5e39row8_col8 {\n",
       "            color:  black;\n",
       "        }    #T_f2e964ae_a137_11ea_ab2e_a45e60cf5e39row8_col9 {\n",
       "            color:  black;\n",
       "        }    #T_f2e964ae_a137_11ea_ab2e_a45e60cf5e39row9_col0 {\n",
       "            color:  black;\n",
       "        }    #T_f2e964ae_a137_11ea_ab2e_a45e60cf5e39row9_col1 {\n",
       "            color:  black;\n",
       "        }    #T_f2e964ae_a137_11ea_ab2e_a45e60cf5e39row9_col2 {\n",
       "            color:  black;\n",
       "        }    #T_f2e964ae_a137_11ea_ab2e_a45e60cf5e39row9_col3 {\n",
       "            color:  black;\n",
       "        }    #T_f2e964ae_a137_11ea_ab2e_a45e60cf5e39row9_col4 {\n",
       "            color:  black;\n",
       "        }    #T_f2e964ae_a137_11ea_ab2e_a45e60cf5e39row9_col5 {\n",
       "            color:  black;\n",
       "        }    #T_f2e964ae_a137_11ea_ab2e_a45e60cf5e39row9_col6 {\n",
       "            color:  black;\n",
       "        }    #T_f2e964ae_a137_11ea_ab2e_a45e60cf5e39row9_col7 {\n",
       "            color:  black;\n",
       "        }    #T_f2e964ae_a137_11ea_ab2e_a45e60cf5e39row9_col8 {\n",
       "            color:  black;\n",
       "        }    #T_f2e964ae_a137_11ea_ab2e_a45e60cf5e39row9_col9 {\n",
       "            color:  black;\n",
       "        }    #T_f2e964ae_a137_11ea_ab2e_a45e60cf5e39row10_col0 {\n",
       "            color:  black;\n",
       "        }    #T_f2e964ae_a137_11ea_ab2e_a45e60cf5e39row10_col1 {\n",
       "            color:  black;\n",
       "        }    #T_f2e964ae_a137_11ea_ab2e_a45e60cf5e39row10_col2 {\n",
       "            color:  black;\n",
       "        }    #T_f2e964ae_a137_11ea_ab2e_a45e60cf5e39row10_col3 {\n",
       "            color:  black;\n",
       "        }    #T_f2e964ae_a137_11ea_ab2e_a45e60cf5e39row10_col4 {\n",
       "            color:  black;\n",
       "        }    #T_f2e964ae_a137_11ea_ab2e_a45e60cf5e39row10_col5 {\n",
       "            color:  black;\n",
       "        }    #T_f2e964ae_a137_11ea_ab2e_a45e60cf5e39row10_col6 {\n",
       "            color:  black;\n",
       "        }    #T_f2e964ae_a137_11ea_ab2e_a45e60cf5e39row10_col7 {\n",
       "            color:  black;\n",
       "        }    #T_f2e964ae_a137_11ea_ab2e_a45e60cf5e39row10_col8 {\n",
       "            color:  black;\n",
       "        }    #T_f2e964ae_a137_11ea_ab2e_a45e60cf5e39row10_col9 {\n",
       "            color:  black;\n",
       "        }    #T_f2e964ae_a137_11ea_ab2e_a45e60cf5e39row11_col0 {\n",
       "            color:  black;\n",
       "        }    #T_f2e964ae_a137_11ea_ab2e_a45e60cf5e39row11_col1 {\n",
       "            color:  black;\n",
       "        }    #T_f2e964ae_a137_11ea_ab2e_a45e60cf5e39row11_col2 {\n",
       "            color:  black;\n",
       "        }    #T_f2e964ae_a137_11ea_ab2e_a45e60cf5e39row11_col3 {\n",
       "            color:  black;\n",
       "        }    #T_f2e964ae_a137_11ea_ab2e_a45e60cf5e39row11_col4 {\n",
       "            color:  black;\n",
       "        }    #T_f2e964ae_a137_11ea_ab2e_a45e60cf5e39row11_col5 {\n",
       "            color:  black;\n",
       "        }    #T_f2e964ae_a137_11ea_ab2e_a45e60cf5e39row11_col6 {\n",
       "            color:  black;\n",
       "        }    #T_f2e964ae_a137_11ea_ab2e_a45e60cf5e39row11_col7 {\n",
       "            color:  black;\n",
       "        }    #T_f2e964ae_a137_11ea_ab2e_a45e60cf5e39row11_col8 {\n",
       "            color:  black;\n",
       "        }    #T_f2e964ae_a137_11ea_ab2e_a45e60cf5e39row11_col9 {\n",
       "            color:  black;\n",
       "        }    #T_f2e964ae_a137_11ea_ab2e_a45e60cf5e39row12_col0 {\n",
       "            color:  black;\n",
       "        }    #T_f2e964ae_a137_11ea_ab2e_a45e60cf5e39row12_col1 {\n",
       "            color:  black;\n",
       "        }    #T_f2e964ae_a137_11ea_ab2e_a45e60cf5e39row12_col2 {\n",
       "            color:  black;\n",
       "        }    #T_f2e964ae_a137_11ea_ab2e_a45e60cf5e39row12_col3 {\n",
       "            color:  black;\n",
       "        }    #T_f2e964ae_a137_11ea_ab2e_a45e60cf5e39row12_col4 {\n",
       "            color:  black;\n",
       "        }    #T_f2e964ae_a137_11ea_ab2e_a45e60cf5e39row12_col5 {\n",
       "            color:  black;\n",
       "        }    #T_f2e964ae_a137_11ea_ab2e_a45e60cf5e39row12_col6 {\n",
       "            color:  black;\n",
       "        }    #T_f2e964ae_a137_11ea_ab2e_a45e60cf5e39row12_col7 {\n",
       "            color:  black;\n",
       "        }    #T_f2e964ae_a137_11ea_ab2e_a45e60cf5e39row12_col8 {\n",
       "            color:  black;\n",
       "        }    #T_f2e964ae_a137_11ea_ab2e_a45e60cf5e39row12_col9 {\n",
       "            color:  black;\n",
       "        }</style><table id=\"T_f2e964ae_a137_11ea_ab2e_a45e60cf5e39\" ><thead>    <tr>        <th class=\"blank level0\" ></th>        <th class=\"col_heading level0 col0\" >k-0</th>        <th class=\"col_heading level0 col1\" >k-1</th>        <th class=\"col_heading level0 col2\" >k-2</th>        <th class=\"col_heading level0 col3\" >k-3</th>        <th class=\"col_heading level0 col4\" >k-4</th>        <th class=\"col_heading level0 col5\" >k-5</th>        <th class=\"col_heading level0 col6\" >k-6</th>        <th class=\"col_heading level0 col7\" >k-7</th>        <th class=\"col_heading level0 col8\" >k-8</th>        <th class=\"col_heading level0 col9\" >k-9</th>    </tr></thead><tbody>\n",
       "                <tr>\n",
       "                        <th id=\"T_f2e964ae_a137_11ea_ab2e_a45e60cf5e39level0_row0\" class=\"row_heading level0 row0\" >0</th>\n",
       "                        <td id=\"T_f2e964ae_a137_11ea_ab2e_a45e60cf5e39row0_col0\" class=\"data row0 col0\" >1.275459e+11</td>\n",
       "                        <td id=\"T_f2e964ae_a137_11ea_ab2e_a45e60cf5e39row0_col1\" class=\"data row0 col1\" >1.305850e+11</td>\n",
       "                        <td id=\"T_f2e964ae_a137_11ea_ab2e_a45e60cf5e39row0_col2\" class=\"data row0 col2\" >1.102654e+11</td>\n",
       "                        <td id=\"T_f2e964ae_a137_11ea_ab2e_a45e60cf5e39row0_col3\" class=\"data row0 col3\" >1.330195e+11</td>\n",
       "                        <td id=\"T_f2e964ae_a137_11ea_ab2e_a45e60cf5e39row0_col4\" class=\"data row0 col4\" >1.261697e+11</td>\n",
       "                        <td id=\"T_f2e964ae_a137_11ea_ab2e_a45e60cf5e39row0_col5\" class=\"data row0 col5\" >1.498250e+11</td>\n",
       "                        <td id=\"T_f2e964ae_a137_11ea_ab2e_a45e60cf5e39row0_col6\" class=\"data row0 col6\" >1.630728e+11</td>\n",
       "                        <td id=\"T_f2e964ae_a137_11ea_ab2e_a45e60cf5e39row0_col7\" class=\"data row0 col7\" >1.478889e+11</td>\n",
       "                        <td id=\"T_f2e964ae_a137_11ea_ab2e_a45e60cf5e39row0_col8\" class=\"data row0 col8\" >1.169471e+11</td>\n",
       "                        <td id=\"T_f2e964ae_a137_11ea_ab2e_a45e60cf5e39row0_col9\" class=\"data row0 col9\" >1.608480e+11</td>\n",
       "            </tr>\n",
       "            <tr>\n",
       "                        <th id=\"T_f2e964ae_a137_11ea_ab2e_a45e60cf5e39level0_row1\" class=\"row_heading level0 row1\" >1</th>\n",
       "                        <td id=\"T_f2e964ae_a137_11ea_ab2e_a45e60cf5e39row1_col0\" class=\"data row1 col0\" >1.278351e+11</td>\n",
       "                        <td id=\"T_f2e964ae_a137_11ea_ab2e_a45e60cf5e39row1_col1\" class=\"data row1 col1\" >1.308660e+11</td>\n",
       "                        <td id=\"T_f2e964ae_a137_11ea_ab2e_a45e60cf5e39row1_col2\" class=\"data row1 col2\" >1.105434e+11</td>\n",
       "                        <td id=\"T_f2e964ae_a137_11ea_ab2e_a45e60cf5e39row1_col3\" class=\"data row1 col3\" >1.332805e+11</td>\n",
       "                        <td id=\"T_f2e964ae_a137_11ea_ab2e_a45e60cf5e39row1_col4\" class=\"data row1 col4\" >1.264458e+11</td>\n",
       "                        <td id=\"T_f2e964ae_a137_11ea_ab2e_a45e60cf5e39row1_col5\" class=\"data row1 col5\" >1.507025e+11</td>\n",
       "                        <td id=\"T_f2e964ae_a137_11ea_ab2e_a45e60cf5e39row1_col6\" class=\"data row1 col6\" >1.634616e+11</td>\n",
       "                        <td id=\"T_f2e964ae_a137_11ea_ab2e_a45e60cf5e39row1_col7\" class=\"data row1 col7\" >1.481903e+11</td>\n",
       "                        <td id=\"T_f2e964ae_a137_11ea_ab2e_a45e60cf5e39row1_col8\" class=\"data row1 col8\" >1.171895e+11</td>\n",
       "                        <td id=\"T_f2e964ae_a137_11ea_ab2e_a45e60cf5e39row1_col9\" class=\"data row1 col9\" >1.613419e+11</td>\n",
       "            </tr>\n",
       "            <tr>\n",
       "                        <th id=\"T_f2e964ae_a137_11ea_ab2e_a45e60cf5e39level0_row2\" class=\"row_heading level0 row2\" >2</th>\n",
       "                        <td id=\"T_f2e964ae_a137_11ea_ab2e_a45e60cf5e39row2_col0\" class=\"data row2 col0\" >1.279271e+11</td>\n",
       "                        <td id=\"T_f2e964ae_a137_11ea_ab2e_a45e60cf5e39row2_col1\" class=\"data row2 col1\" >1.309554e+11</td>\n",
       "                        <td id=\"T_f2e964ae_a137_11ea_ab2e_a45e60cf5e39row2_col2\" class=\"data row2 col2\" >1.106318e+11</td>\n",
       "                        <td id=\"T_f2e964ae_a137_11ea_ab2e_a45e60cf5e39row2_col3\" class=\"data row2 col3\" >1.333634e+11</td>\n",
       "                        <td id=\"T_f2e964ae_a137_11ea_ab2e_a45e60cf5e39row2_col4\" class=\"data row2 col4\" >1.265335e+11</td>\n",
       "                        <td id=\"T_f2e964ae_a137_11ea_ab2e_a45e60cf5e39row2_col5\" class=\"data row2 col5\" >1.510011e+11</td>\n",
       "                        <td id=\"T_f2e964ae_a137_11ea_ab2e_a45e60cf5e39row2_col6\" class=\"data row2 col6\" >1.635853e+11</td>\n",
       "                        <td id=\"T_f2e964ae_a137_11ea_ab2e_a45e60cf5e39row2_col7\" class=\"data row2 col7\" >1.482862e+11</td>\n",
       "                        <td id=\"T_f2e964ae_a137_11ea_ab2e_a45e60cf5e39row2_col8\" class=\"data row2 col8\" >1.172665e+11</td>\n",
       "                        <td id=\"T_f2e964ae_a137_11ea_ab2e_a45e60cf5e39row2_col9\" class=\"data row2 col9\" >1.614994e+11</td>\n",
       "            </tr>\n",
       "            <tr>\n",
       "                        <th id=\"T_f2e964ae_a137_11ea_ab2e_a45e60cf5e39level0_row3\" class=\"row_heading level0 row3\" >3</th>\n",
       "                        <td id=\"T_f2e964ae_a137_11ea_ab2e_a45e60cf5e39row3_col0\" class=\"data row3 col0\" >1.279563e+11</td>\n",
       "                        <td id=\"T_f2e964ae_a137_11ea_ab2e_a45e60cf5e39row3_col1\" class=\"data row3 col1\" >1.309837e+11</td>\n",
       "                        <td id=\"T_f2e964ae_a137_11ea_ab2e_a45e60cf5e39row3_col2\" class=\"data row3 col2\" >1.106598e+11</td>\n",
       "                        <td id=\"T_f2e964ae_a137_11ea_ab2e_a45e60cf5e39row3_col3\" class=\"data row3 col3\" >1.333897e+11</td>\n",
       "                        <td id=\"T_f2e964ae_a137_11ea_ab2e_a45e60cf5e39row3_col4\" class=\"data row3 col4\" >1.265613e+11</td>\n",
       "                        <td id=\"T_f2e964ae_a137_11ea_ab2e_a45e60cf5e39row3_col5\" class=\"data row3 col5\" >1.510977e+11</td>\n",
       "                        <td id=\"T_f2e964ae_a137_11ea_ab2e_a45e60cf5e39row3_col6\" class=\"data row3 col6\" >1.636245e+11</td>\n",
       "                        <td id=\"T_f2e964ae_a137_11ea_ab2e_a45e60cf5e39row3_col7\" class=\"data row3 col7\" >1.483165e+11</td>\n",
       "                        <td id=\"T_f2e964ae_a137_11ea_ab2e_a45e60cf5e39row3_col8\" class=\"data row3 col8\" >1.172909e+11</td>\n",
       "                        <td id=\"T_f2e964ae_a137_11ea_ab2e_a45e60cf5e39row3_col9\" class=\"data row3 col9\" >1.615493e+11</td>\n",
       "            </tr>\n",
       "            <tr>\n",
       "                        <th id=\"T_f2e964ae_a137_11ea_ab2e_a45e60cf5e39level0_row4\" class=\"row_heading level0 row4\" >4</th>\n",
       "                        <td id=\"T_f2e964ae_a137_11ea_ab2e_a45e60cf5e39row4_col0\" class=\"data row4 col0\" >1.279655e+11</td>\n",
       "                        <td id=\"T_f2e964ae_a137_11ea_ab2e_a45e60cf5e39row4_col1\" class=\"data row4 col1\" >1.309926e+11</td>\n",
       "                        <td id=\"T_f2e964ae_a137_11ea_ab2e_a45e60cf5e39row4_col2\" class=\"data row4 col2\" >1.106687e+11</td>\n",
       "                        <td id=\"T_f2e964ae_a137_11ea_ab2e_a45e60cf5e39row4_col3\" class=\"data row4 col3\" >1.333980e+11</td>\n",
       "                        <td id=\"T_f2e964ae_a137_11ea_ab2e_a45e60cf5e39row4_col4\" class=\"data row4 col4\" >1.265701e+11</td>\n",
       "                        <td id=\"T_f2e964ae_a137_11ea_ab2e_a45e60cf5e39row4_col5\" class=\"data row4 col5\" >1.511284e+11</td>\n",
       "                        <td id=\"T_f2e964ae_a137_11ea_ab2e_a45e60cf5e39row4_col6\" class=\"data row4 col6\" >1.636369e+11</td>\n",
       "                        <td id=\"T_f2e964ae_a137_11ea_ab2e_a45e60cf5e39row4_col7\" class=\"data row4 col7\" >1.483261e+11</td>\n",
       "                        <td id=\"T_f2e964ae_a137_11ea_ab2e_a45e60cf5e39row4_col8\" class=\"data row4 col8\" >1.172986e+11</td>\n",
       "                        <td id=\"T_f2e964ae_a137_11ea_ab2e_a45e60cf5e39row4_col9\" class=\"data row4 col9\" >1.615651e+11</td>\n",
       "            </tr>\n",
       "            <tr>\n",
       "                        <th id=\"T_f2e964ae_a137_11ea_ab2e_a45e60cf5e39level0_row5\" class=\"row_heading level0 row5\" >5</th>\n",
       "                        <td id=\"T_f2e964ae_a137_11ea_ab2e_a45e60cf5e39row5_col0\" class=\"data row5 col0\" >1.279684e+11</td>\n",
       "                        <td id=\"T_f2e964ae_a137_11ea_ab2e_a45e60cf5e39row5_col1\" class=\"data row5 col1\" >1.309955e+11</td>\n",
       "                        <td id=\"T_f2e964ae_a137_11ea_ab2e_a45e60cf5e39row5_col2\" class=\"data row5 col2\" >1.106715e+11</td>\n",
       "                        <td id=\"T_f2e964ae_a137_11ea_ab2e_a45e60cf5e39row5_col3\" class=\"data row5 col3\" >1.334006e+11</td>\n",
       "                        <td id=\"T_f2e964ae_a137_11ea_ab2e_a45e60cf5e39row5_col4\" class=\"data row5 col4\" >1.265729e+11</td>\n",
       "                        <td id=\"T_f2e964ae_a137_11ea_ab2e_a45e60cf5e39row5_col5\" class=\"data row5 col5\" >1.511382e+11</td>\n",
       "                        <td id=\"T_f2e964ae_a137_11ea_ab2e_a45e60cf5e39row5_col6\" class=\"data row5 col6\" >1.636409e+11</td>\n",
       "                        <td id=\"T_f2e964ae_a137_11ea_ab2e_a45e60cf5e39row5_col7\" class=\"data row5 col7\" >1.483292e+11</td>\n",
       "                        <td id=\"T_f2e964ae_a137_11ea_ab2e_a45e60cf5e39row5_col8\" class=\"data row5 col8\" >1.173011e+11</td>\n",
       "                        <td id=\"T_f2e964ae_a137_11ea_ab2e_a45e60cf5e39row5_col9\" class=\"data row5 col9\" >1.615701e+11</td>\n",
       "            </tr>\n",
       "            <tr>\n",
       "                        <th id=\"T_f2e964ae_a137_11ea_ab2e_a45e60cf5e39level0_row6\" class=\"row_heading level0 row6\" >6</th>\n",
       "                        <td id=\"T_f2e964ae_a137_11ea_ab2e_a45e60cf5e39row6_col0\" class=\"data row6 col0\" >1.279694e+11</td>\n",
       "                        <td id=\"T_f2e964ae_a137_11ea_ab2e_a45e60cf5e39row6_col1\" class=\"data row6 col1\" >1.309964e+11</td>\n",
       "                        <td id=\"T_f2e964ae_a137_11ea_ab2e_a45e60cf5e39row6_col2\" class=\"data row6 col2\" >1.106724e+11</td>\n",
       "                        <td id=\"T_f2e964ae_a137_11ea_ab2e_a45e60cf5e39row6_col3\" class=\"data row6 col3\" >1.334015e+11</td>\n",
       "                        <td id=\"T_f2e964ae_a137_11ea_ab2e_a45e60cf5e39row6_col4\" class=\"data row6 col4\" >1.265738e+11</td>\n",
       "                        <td id=\"T_f2e964ae_a137_11ea_ab2e_a45e60cf5e39row6_col5\" class=\"data row6 col5\" >1.511413e+11</td>\n",
       "                        <td id=\"T_f2e964ae_a137_11ea_ab2e_a45e60cf5e39row6_col6\" class=\"data row6 col6\" >1.636421e+11</td>\n",
       "                        <td id=\"T_f2e964ae_a137_11ea_ab2e_a45e60cf5e39row6_col7\" class=\"data row6 col7\" >1.483301e+11</td>\n",
       "                        <td id=\"T_f2e964ae_a137_11ea_ab2e_a45e60cf5e39row6_col8\" class=\"data row6 col8\" >1.173018e+11</td>\n",
       "                        <td id=\"T_f2e964ae_a137_11ea_ab2e_a45e60cf5e39row6_col9\" class=\"data row6 col9\" >1.615717e+11</td>\n",
       "            </tr>\n",
       "            <tr>\n",
       "                        <th id=\"T_f2e964ae_a137_11ea_ab2e_a45e60cf5e39level0_row7\" class=\"row_heading level0 row7\" >7</th>\n",
       "                        <td id=\"T_f2e964ae_a137_11ea_ab2e_a45e60cf5e39row7_col0\" class=\"data row7 col0\" >1.279697e+11</td>\n",
       "                        <td id=\"T_f2e964ae_a137_11ea_ab2e_a45e60cf5e39row7_col1\" class=\"data row7 col1\" >1.309966e+11</td>\n",
       "                        <td id=\"T_f2e964ae_a137_11ea_ab2e_a45e60cf5e39row7_col2\" class=\"data row7 col2\" >1.106726e+11</td>\n",
       "                        <td id=\"T_f2e964ae_a137_11ea_ab2e_a45e60cf5e39row7_col3\" class=\"data row7 col3\" >1.334017e+11</td>\n",
       "                        <td id=\"T_f2e964ae_a137_11ea_ab2e_a45e60cf5e39row7_col4\" class=\"data row7 col4\" >1.265741e+11</td>\n",
       "                        <td id=\"T_f2e964ae_a137_11ea_ab2e_a45e60cf5e39row7_col5\" class=\"data row7 col5\" >1.511423e+11</td>\n",
       "                        <td id=\"T_f2e964ae_a137_11ea_ab2e_a45e60cf5e39row7_col6\" class=\"data row7 col6\" >1.636425e+11</td>\n",
       "                        <td id=\"T_f2e964ae_a137_11ea_ab2e_a45e60cf5e39row7_col7\" class=\"data row7 col7\" >1.483304e+11</td>\n",
       "                        <td id=\"T_f2e964ae_a137_11ea_ab2e_a45e60cf5e39row7_col8\" class=\"data row7 col8\" >1.173021e+11</td>\n",
       "                        <td id=\"T_f2e964ae_a137_11ea_ab2e_a45e60cf5e39row7_col9\" class=\"data row7 col9\" >1.615722e+11</td>\n",
       "            </tr>\n",
       "            <tr>\n",
       "                        <th id=\"T_f2e964ae_a137_11ea_ab2e_a45e60cf5e39level0_row8\" class=\"row_heading level0 row8\" >8</th>\n",
       "                        <td id=\"T_f2e964ae_a137_11ea_ab2e_a45e60cf5e39row8_col0\" class=\"data row8 col0\" >1.279698e+11</td>\n",
       "                        <td id=\"T_f2e964ae_a137_11ea_ab2e_a45e60cf5e39row8_col1\" class=\"data row8 col1\" >1.309967e+11</td>\n",
       "                        <td id=\"T_f2e964ae_a137_11ea_ab2e_a45e60cf5e39row8_col2\" class=\"data row8 col2\" >1.106727e+11</td>\n",
       "                        <td id=\"T_f2e964ae_a137_11ea_ab2e_a45e60cf5e39row8_col3\" class=\"data row8 col3\" >1.334018e+11</td>\n",
       "                        <td id=\"T_f2e964ae_a137_11ea_ab2e_a45e60cf5e39row8_col4\" class=\"data row8 col4\" >1.265742e+11</td>\n",
       "                        <td id=\"T_f2e964ae_a137_11ea_ab2e_a45e60cf5e39row8_col5\" class=\"data row8 col5\" >1.511426e+11</td>\n",
       "                        <td id=\"T_f2e964ae_a137_11ea_ab2e_a45e60cf5e39row8_col6\" class=\"data row8 col6\" >1.636426e+11</td>\n",
       "                        <td id=\"T_f2e964ae_a137_11ea_ab2e_a45e60cf5e39row8_col7\" class=\"data row8 col7\" >1.483305e+11</td>\n",
       "                        <td id=\"T_f2e964ae_a137_11ea_ab2e_a45e60cf5e39row8_col8\" class=\"data row8 col8\" >1.173022e+11</td>\n",
       "                        <td id=\"T_f2e964ae_a137_11ea_ab2e_a45e60cf5e39row8_col9\" class=\"data row8 col9\" >1.615724e+11</td>\n",
       "            </tr>\n",
       "            <tr>\n",
       "                        <th id=\"T_f2e964ae_a137_11ea_ab2e_a45e60cf5e39level0_row9\" class=\"row_heading level0 row9\" >9</th>\n",
       "                        <td id=\"T_f2e964ae_a137_11ea_ab2e_a45e60cf5e39row9_col0\" class=\"data row9 col0\" >1.279698e+11</td>\n",
       "                        <td id=\"T_f2e964ae_a137_11ea_ab2e_a45e60cf5e39row9_col1\" class=\"data row9 col1\" >1.309968e+11</td>\n",
       "                        <td id=\"T_f2e964ae_a137_11ea_ab2e_a45e60cf5e39row9_col2\" class=\"data row9 col2\" >1.106728e+11</td>\n",
       "                        <td id=\"T_f2e964ae_a137_11ea_ab2e_a45e60cf5e39row9_col3\" class=\"data row9 col3\" >1.334018e+11</td>\n",
       "                        <td id=\"T_f2e964ae_a137_11ea_ab2e_a45e60cf5e39row9_col4\" class=\"data row9 col4\" >1.265742e+11</td>\n",
       "                        <td id=\"T_f2e964ae_a137_11ea_ab2e_a45e60cf5e39row9_col5\" class=\"data row9 col5\" >1.511427e+11</td>\n",
       "                        <td id=\"T_f2e964ae_a137_11ea_ab2e_a45e60cf5e39row9_col6\" class=\"data row9 col6\" >1.636427e+11</td>\n",
       "                        <td id=\"T_f2e964ae_a137_11ea_ab2e_a45e60cf5e39row9_col7\" class=\"data row9 col7\" >1.483305e+11</td>\n",
       "                        <td id=\"T_f2e964ae_a137_11ea_ab2e_a45e60cf5e39row9_col8\" class=\"data row9 col8\" >1.173022e+11</td>\n",
       "                        <td id=\"T_f2e964ae_a137_11ea_ab2e_a45e60cf5e39row9_col9\" class=\"data row9 col9\" >1.615724e+11</td>\n",
       "            </tr>\n",
       "            <tr>\n",
       "                        <th id=\"T_f2e964ae_a137_11ea_ab2e_a45e60cf5e39level0_row10\" class=\"row_heading level0 row10\" >10</th>\n",
       "                        <td id=\"T_f2e964ae_a137_11ea_ab2e_a45e60cf5e39row10_col0\" class=\"data row10 col0\" >1.279698e+11</td>\n",
       "                        <td id=\"T_f2e964ae_a137_11ea_ab2e_a45e60cf5e39row10_col1\" class=\"data row10 col1\" >1.309968e+11</td>\n",
       "                        <td id=\"T_f2e964ae_a137_11ea_ab2e_a45e60cf5e39row10_col2\" class=\"data row10 col2\" >1.106728e+11</td>\n",
       "                        <td id=\"T_f2e964ae_a137_11ea_ab2e_a45e60cf5e39row10_col3\" class=\"data row10 col3\" >1.334019e+11</td>\n",
       "                        <td id=\"T_f2e964ae_a137_11ea_ab2e_a45e60cf5e39row10_col4\" class=\"data row10 col4\" >1.265742e+11</td>\n",
       "                        <td id=\"T_f2e964ae_a137_11ea_ab2e_a45e60cf5e39row10_col5\" class=\"data row10 col5\" >1.511427e+11</td>\n",
       "                        <td id=\"T_f2e964ae_a137_11ea_ab2e_a45e60cf5e39row10_col6\" class=\"data row10 col6\" >1.636427e+11</td>\n",
       "                        <td id=\"T_f2e964ae_a137_11ea_ab2e_a45e60cf5e39row10_col7\" class=\"data row10 col7\" >1.483306e+11</td>\n",
       "                        <td id=\"T_f2e964ae_a137_11ea_ab2e_a45e60cf5e39row10_col8\" class=\"data row10 col8\" >1.173022e+11</td>\n",
       "                        <td id=\"T_f2e964ae_a137_11ea_ab2e_a45e60cf5e39row10_col9\" class=\"data row10 col9\" >1.615724e+11</td>\n",
       "            </tr>\n",
       "            <tr>\n",
       "                        <th id=\"T_f2e964ae_a137_11ea_ab2e_a45e60cf5e39level0_row11\" class=\"row_heading level0 row11\" >11</th>\n",
       "                        <td id=\"T_f2e964ae_a137_11ea_ab2e_a45e60cf5e39row11_col0\" class=\"data row11 col0\" >1.279698e+11</td>\n",
       "                        <td id=\"T_f2e964ae_a137_11ea_ab2e_a45e60cf5e39row11_col1\" class=\"data row11 col1\" >1.309968e+11</td>\n",
       "                        <td id=\"T_f2e964ae_a137_11ea_ab2e_a45e60cf5e39row11_col2\" class=\"data row11 col2\" >1.106728e+11</td>\n",
       "                        <td id=\"T_f2e964ae_a137_11ea_ab2e_a45e60cf5e39row11_col3\" class=\"data row11 col3\" >1.334019e+11</td>\n",
       "                        <td id=\"T_f2e964ae_a137_11ea_ab2e_a45e60cf5e39row11_col4\" class=\"data row11 col4\" >1.265742e+11</td>\n",
       "                        <td id=\"T_f2e964ae_a137_11ea_ab2e_a45e60cf5e39row11_col5\" class=\"data row11 col5\" >1.511427e+11</td>\n",
       "                        <td id=\"T_f2e964ae_a137_11ea_ab2e_a45e60cf5e39row11_col6\" class=\"data row11 col6\" >1.636427e+11</td>\n",
       "                        <td id=\"T_f2e964ae_a137_11ea_ab2e_a45e60cf5e39row11_col7\" class=\"data row11 col7\" >1.483306e+11</td>\n",
       "                        <td id=\"T_f2e964ae_a137_11ea_ab2e_a45e60cf5e39row11_col8\" class=\"data row11 col8\" >1.173022e+11</td>\n",
       "                        <td id=\"T_f2e964ae_a137_11ea_ab2e_a45e60cf5e39row11_col9\" class=\"data row11 col9\" >1.615724e+11</td>\n",
       "            </tr>\n",
       "            <tr>\n",
       "                        <th id=\"T_f2e964ae_a137_11ea_ab2e_a45e60cf5e39level0_row12\" class=\"row_heading level0 row12\" >12</th>\n",
       "                        <td id=\"T_f2e964ae_a137_11ea_ab2e_a45e60cf5e39row12_col0\" class=\"data row12 col0\" >1.279698e+11</td>\n",
       "                        <td id=\"T_f2e964ae_a137_11ea_ab2e_a45e60cf5e39row12_col1\" class=\"data row12 col1\" >1.309968e+11</td>\n",
       "                        <td id=\"T_f2e964ae_a137_11ea_ab2e_a45e60cf5e39row12_col2\" class=\"data row12 col2\" >1.106728e+11</td>\n",
       "                        <td id=\"T_f2e964ae_a137_11ea_ab2e_a45e60cf5e39row12_col3\" class=\"data row12 col3\" >1.334019e+11</td>\n",
       "                        <td id=\"T_f2e964ae_a137_11ea_ab2e_a45e60cf5e39row12_col4\" class=\"data row12 col4\" >1.265742e+11</td>\n",
       "                        <td id=\"T_f2e964ae_a137_11ea_ab2e_a45e60cf5e39row12_col5\" class=\"data row12 col5\" >1.511427e+11</td>\n",
       "                        <td id=\"T_f2e964ae_a137_11ea_ab2e_a45e60cf5e39row12_col6\" class=\"data row12 col6\" >1.636427e+11</td>\n",
       "                        <td id=\"T_f2e964ae_a137_11ea_ab2e_a45e60cf5e39row12_col7\" class=\"data row12 col7\" >1.483306e+11</td>\n",
       "                        <td id=\"T_f2e964ae_a137_11ea_ab2e_a45e60cf5e39row12_col8\" class=\"data row12 col8\" >1.173022e+11</td>\n",
       "                        <td id=\"T_f2e964ae_a137_11ea_ab2e_a45e60cf5e39row12_col9\" class=\"data row12 col9\" >1.615724e+11</td>\n",
       "            </tr>\n",
       "    </tbody></table>"
      ],
      "text/plain": [
       "<pandas.io.formats.style.Styler at 0x1a2327bd10>"
      ]
     },
     "execution_count": 252,
     "metadata": {},
     "output_type": "execute_result"
    }
   ],
   "source": []
  },
  {
   "cell_type": "markdown",
   "metadata": {},
   "source": [
    "# Implementing Ridge Reg using Gradient Descent"
   ]
  },
  {
   "cell_type": "code",
   "execution_count": 262,
   "metadata": {},
   "outputs": [],
   "source": [
    "train = pd.read_csv(\"kc_house_train_data.csv\", dtype=dtype_dict)\n",
    "test = pd.read_csv(\"kc_house_test_data.csv\", dtype=dtype_dict)\n",
    "train_x_reshape, train_y = process(train)\n",
    "test_x_reshape, test_y = process(test)"
   ]
  },
  {
   "cell_type": "code",
   "execution_count": 277,
   "metadata": {},
   "outputs": [
    {
     "data": {
      "text/plain": [
       "Ridge(alpha=0.0, copy_X=True, fit_intercept=True, max_iter=1000, normalize=True,\n",
       "      random_state=None, solver='saga', tol=0.001)"
      ]
     },
     "execution_count": 277,
     "metadata": {},
     "output_type": "execute_result"
    }
   ],
   "source": [
    "l2_small_penalty = 0.0\n",
    "model_gd = Ridge(alpha=l2_start_penalty, normalize=True, max_iter=1000, solver=\"saga\")\n",
    "model_gd.fit(train_x_reshape, train_y)"
   ]
  },
  {
   "cell_type": "code",
   "execution_count": 265,
   "metadata": {},
   "outputs": [],
   "source": [
    "simple_weights_0_penalty = model_gd.coef_"
   ]
  },
  {
   "cell_type": "code",
   "execution_count": 266,
   "metadata": {},
   "outputs": [
    {
     "data": {
      "text/plain": [
       "array([281.08524738])"
      ]
     },
     "execution_count": 266,
     "metadata": {},
     "output_type": "execute_result"
    }
   ],
   "source": [
    "simple_weights_0_penalty"
   ]
  },
  {
   "cell_type": "code",
   "execution_count": 267,
   "metadata": {},
   "outputs": [],
   "source": [
    "l2_high_penalty = 1e11"
   ]
  },
  {
   "cell_type": "code",
   "execution_count": 269,
   "metadata": {},
   "outputs": [
    {
     "data": {
      "text/plain": [
       "Ridge(alpha=100000000000.0, copy_X=True, fit_intercept=True, max_iter=1000,\n",
       "      normalize=True, random_state=None, solver='saga', tol=0.001)"
      ]
     },
     "execution_count": 269,
     "metadata": {},
     "output_type": "execute_result"
    }
   ],
   "source": [
    "model_gd2 = Ridge(alpha=l2_high_penalty, normalize=True, max_iter=1000, solver=\"saga\")\n",
    "model_gd2.fit(train_x_reshape, train_y)"
   ]
  },
  {
   "cell_type": "code",
   "execution_count": 270,
   "metadata": {},
   "outputs": [
    {
     "data": {
      "text/plain": [
       "array([2.82405145e-09])"
      ]
     },
     "execution_count": 270,
     "metadata": {},
     "output_type": "execute_result"
    }
   ],
   "source": [
    "simple_weights_high_penalty = model_gd2.coef_\n",
    "simple_weights_high_penalty"
   ]
  },
  {
   "cell_type": "code",
   "execution_count": 273,
   "metadata": {},
   "outputs": [
    {
     "data": {
      "image/png": "[encoded data removed]",
      "text/plain": [
       "<Figure size 720x360 with 2 Axes>"
      ]
     },
     "metadata": {
      "needs_background": "light"
     },
     "output_type": "display_data"
    }
   ],
   "source": [
    "def plotResults(data_set, model, ax):\n",
    "    x_reshape, y = process(data_set)\n",
    "\n",
    "    # true data\n",
    "    ax.scatter(x_reshape, y, c=\"orange\")\n",
    "    # predicted regression line\n",
    "    poly = np.poly1d([model.coef_, model.intercept_])\n",
    "    ax.plot(x_reshape, poly(x_reshape))\n",
    "\n",
    "\n",
    "fig, axes = plt.subplots(ncols=2, figsize=(10, 5))\n",
    "plotResults(train, model_gd, axes[0])\n",
    "plotResults(train, model_gd2, axes[1])\n",
    "plt.tight_layout()\n",
    "plt.show()"
   ]
  },
  {
   "cell_type": "code",
   "execution_count": 292,
   "metadata": {},
   "outputs": [],
   "source": [
    "features = [\"sqft_living\", \"sqft_living15\"]"
   ]
  },
  {
   "cell_type": "code",
   "execution_count": 317,
   "metadata": {},
   "outputs": [
    {
     "data": {
      "text/plain": [
       "Ridge(alpha=1.5e-05, copy_X=True, fit_intercept=True, max_iter=1000,\n",
       "      normalize=True, random_state=None, solver='saga', tol=0.001)"
      ]
     },
     "execution_count": 317,
     "metadata": {},
     "output_type": "execute_result"
    }
   ],
   "source": [
    "train_x_reshape, train_y = process(train, features)\n",
    "model_gd3 = Ridge(alpha=l2_small_penalty, normalize=True, solver=\"saga\", max_iter=1000)\n",
    "model_gd3.fit(train_x_reshape, train_y)"
   ]
  },
  {
   "cell_type": "code",
   "execution_count": 318,
   "metadata": {},
   "outputs": [
    {
     "data": {
      "text/plain": [
       "array([245.21388856,  65.21124016])"
      ]
     },
     "execution_count": 318,
     "metadata": {},
     "output_type": "execute_result"
    }
   ],
   "source": [
    "multiple_weights_0_penalty = model_gd3.coef_\n",
    "multiple_weights_0_penalty"
   ]
  },
  {
   "cell_type": "code",
   "execution_count": 314,
   "metadata": {},
   "outputs": [
    {
     "data": {
      "text/plain": [
       "Ridge(alpha=123.0, copy_X=True, fit_intercept=True, max_iter=1000,\n",
       "      normalize=True, random_state=None, solver='saga', tol=0.001)"
      ]
     },
     "execution_count": 314,
     "metadata": {},
     "output_type": "execute_result"
    }
   ],
   "source": [
    "model_gd4 = Ridge(alpha=l2_large_penalty, normalize=True, solver=\"saga\", max_iter=1000)\n",
    "model_gd4.fit(train_x_reshape, train_y)"
   ]
  },
  {
   "cell_type": "code",
   "execution_count": 319,
   "metadata": {},
   "outputs": [
    {
     "data": {
      "text/plain": [
       "array([2.26164064, 2.51523317])"
      ]
     },
     "execution_count": 319,
     "metadata": {},
     "output_type": "execute_result"
    }
   ],
   "source": [
    "multiple_weights_high_penalty = model_gd4.coef_\n",
    "multiple_weights_high_penalty"
   ]
  },
  {
   "cell_type": "markdown",
   "metadata": {},
   "source": [
    "### Regularization\n",
    "high regularization => lower coefs, more bias but less variance"
   ]
  },
  {
   "cell_type": "code",
   "execution_count": null,
   "metadata": {},
   "outputs": [],
   "source": []
  }
 ],
 "metadata": {
  "kernelspec": {
   "display_name": "Python 3",
   "language": "python",
   "name": "python3"
  },
  "language_info": {
   "codemirror_mode": {
    "name": "ipython",
    "version": 3
   },
   "file_extension": ".py",
   "mimetype": "text/x-python",
   "name": "python",
   "nbconvert_exporter": "python",
   "pygments_lexer": "ipython3",
   "version": "3.7.6"
  }
 },
 "nbformat": 4,
 "nbformat_minor": 4
}
