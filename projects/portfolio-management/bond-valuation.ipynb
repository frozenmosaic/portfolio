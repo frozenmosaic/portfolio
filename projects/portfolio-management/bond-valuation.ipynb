{
 "cells": [
  {
   "cell_type": "markdown",
   "metadata": {},
   "source": [
    "# Bond Valuation"
   ]
  },
  {
   "cell_type": "markdown",
   "metadata": {},
   "source": [
    "Bond value = DCF of interest payments + present value of face value (paid at maturity)"
   ]
  },
  {
   "cell_type": "code",
   "execution_count": 242,
   "metadata": {},
   "outputs": [
    {
     "name": "stdout",
     "output_type": "stream",
     "text": [
      "The lab_black extension is already loaded. To reload it, use:\n",
      "  %reload_ext lab_black\n"
     ]
    }
   ],
   "source": [
    "import pandas as pd\n",
    "import numpy as np\n",
    "import numpy_financial as npf\n",
    "import scipy\n",
    "import QuantLib as ql\n",
    "from dateutil.relativedelta import relativedelta\n",
    "\n",
    "%load_ext lab_black"
   ]
  },
  {
   "cell_type": "code",
   "execution_count": 163,
   "metadata": {},
   "outputs": [
    {
     "data": {
      "text/plain": [
       "968.8671118995135"
      ]
     },
     "execution_count": 163,
     "metadata": {},
     "output_type": "execute_result"
    }
   ],
   "source": [
    "npf.npv(0.0855, [70, 70, 70, 70, 1000])"
   ]
  },
  {
   "cell_type": "code",
   "execution_count": 164,
   "metadata": {},
   "outputs": [
    {
     "data": {
      "text/plain": [
       "-949.2843126056179"
      ]
     },
     "execution_count": 164,
     "metadata": {},
     "output_type": "execute_result"
    }
   ],
   "source": [
    "npf.pv(rate=0.0855, pmt=70, nper=4, fv=1000)"
   ]
  },
  {
   "cell_type": "code",
   "execution_count": 293,
   "metadata": {},
   "outputs": [],
   "source": [
    "\"\"\"\n",
    ":face: face or par value of bond\n",
    ":crate: annual coupon rate\n",
    ":drate: annual market discount rate\n",
    ":my, mm, md: year, month, date of maturity date\n",
    ":comp_per: number of compounding periods \n",
    "until maturity in one year\n",
    "\n",
    "return: theoretical present value of bond\n",
    "\"\"\"\n",
    "\n",
    "my = 2024\n",
    "mm = 6\n",
    "md = 22\n",
    "crate = 0.09\n",
    "drate = 0.02\n",
    "comp_per = 4\n",
    "face = 10\n",
    "price = 10.81\n",
    "\n",
    "today = dt.datetime.today()\n",
    "maturity = dt.datetime(my, mm, md)\n",
    "ttm = relativedelta(maturity, today)\n",
    "\n",
    "# total number of compounding periods\n",
    "nper = int(ttm.years * comp_per)\n",
    "\n",
    "# coupon rate per compounding period\n",
    "crate_period = crate / comp_per\n",
    "# interest payment per period\n",
    "pmt_period = face * crate_period\n",
    "\n",
    "# YTM\n",
    "ytm = comp_per * npf.irr([-price] + [pmt_period] * (nper - 1) + [face + pmt_period])\n",
    "\n",
    "# bond value as present value of cash flow + final payment\n",
    "pv_coupon = -npf.pv(drate, nper, pmt_period)\n",
    "pv_principal = -npf.pv(drate, nper, fv=face, pmt=0)\n",
    "value = pv_coupon + pv_principal"
   ]
  },
  {
   "cell_type": "code",
   "execution_count": 268,
   "metadata": {},
   "outputs": [
    {
     "data": {
      "text/plain": [
       "0.03401114827319085"
      ]
     },
     "execution_count": 268,
     "metadata": {},
     "output_type": "execute_result"
    }
   ],
   "source": [
    "npf.irr([-95.92] + [2.5] * 4 + [100 + 2.5])"
   ]
  },
  {
   "cell_type": "code",
   "execution_count": 294,
   "metadata": {},
   "outputs": [
    {
     "data": {
      "text/plain": [
       "0.06675856306040107"
      ]
     },
     "execution_count": 294,
     "metadata": {},
     "output_type": "execute_result"
    }
   ],
   "source": [
    "ytm"
   ]
  },
  {
   "cell_type": "code",
   "execution_count": 295,
   "metadata": {},
   "outputs": [
    {
     "data": {
      "text/plain": [
       "10.339442732857208"
      ]
     },
     "execution_count": 295,
     "metadata": {},
     "output_type": "execute_result"
    }
   ],
   "source": [
    "value"
   ]
  },
  {
   "cell_type": "code",
   "execution_count": 287,
   "metadata": {},
   "outputs": [
    {
     "data": {
      "text/plain": [
       "1.5032219293117526"
      ]
     },
     "execution_count": 287,
     "metadata": {},
     "output_type": "execute_result"
    }
   ],
   "source": [
    "# payment schedule\n",
    "\n",
    "# ql.Schedule\n",
    "calendar = ql.UnitedStates()\n",
    "bussinessConvention = ql.ModifiedFollowing\n",
    "dateGeneration = ql.DateGeneration.Backward\n",
    "monthEnd = False\n",
    "cpn_freq = 2\n",
    "issueDate = ql.Date(30, 9, 2020)\n",
    "maturityDate = ql.Date(30, 9, 2025)\n",
    "tenor = ql.Period(cpn_freq)\n",
    "schedule = ql.Schedule(\n",
    "    issueDate,\n",
    "    maturityDate,\n",
    "    tenor,\n",
    "    calendar,\n",
    "    bussinessConvention,\n",
    "    bussinessConvention,\n",
    "    dateGeneration,\n",
    "    monthEnd,\n",
    ")\n",
    "\n",
    "# ql.FixedRateBond\n",
    "dayCounter = ql.ActualActual()\n",
    "settlementDays = 1\n",
    "faceValue = 100\n",
    "couponRate = 1.75 / 100\n",
    "coupons = [couponRate]\n",
    "fixedRateBond = ql.FixedRateBond(\n",
    "    settlementDays, faceValue, schedule, coupons, dayCounter\n",
    ")\n",
    "\n",
    "# ql.FixedRateBond.bondYield\n",
    "compounding = ql.Compounded\n",
    "cleanPrice = 100.7421875\n",
    "fixedRateBond.bondYield(cleanPrice, dayCounter, compounding, cpn_freq) * 100"
   ]
  },
  {
   "cell_type": "code",
   "execution_count": 288,
   "metadata": {},
   "outputs": [
    {
     "data": {
      "text/plain": [
       "103.42953332230505"
      ]
     },
     "execution_count": 288,
     "metadata": {},
     "output_type": "execute_result"
    }
   ],
   "source": [
    "bond = ql.FixedRateBond(\n",
    "    2,\n",
    "    ql.TARGET(),\n",
    "    100.0,\n",
    "    ql.Date(15, 12, 2019),\n",
    "    ql.Date(15, 12, 2024),\n",
    "    ql.Period(\"1Y\"),\n",
    "    [0.05],\n",
    "    ql.ActualActual(),\n",
    ")\n",
    "crv = ql.FlatForward(2, ql.TARGET(), 0.04, ql.Actual360())\n",
    "ql.BondFunctions.cleanPrice(bond, crv)"
   ]
  },
  {
   "cell_type": "code",
   "execution_count": 289,
   "metadata": {},
   "outputs": [
    {
     "data": {
      "text/plain": [
       "0.04999999999999998"
      ]
     },
     "execution_count": 289,
     "metadata": {},
     "output_type": "execute_result"
    }
   ],
   "source": [
    "ql.BondFunctions.atmRate(bond, crv)"
   ]
  },
  {
   "cell_type": "code",
   "execution_count": 290,
   "metadata": {},
   "outputs": [
    {
     "data": {
      "text/plain": [
       "<QuantLib.QuantLib.FlatForward; proxy of <Swig Object of type 'boost::shared_ptr< FlatForward > *' at 0x1019de0630> >"
      ]
     },
     "execution_count": 290,
     "metadata": {},
     "output_type": "execute_result"
    }
   ],
   "source": [
    "crv"
   ]
  },
  {
   "cell_type": "code",
   "execution_count": null,
   "metadata": {},
   "outputs": [],
   "source": []
  }
 ],
 "metadata": {
  "kernelspec": {
   "display_name": "Python 3",
   "language": "python",
   "name": "python3"
  },
  "language_info": {
   "codemirror_mode": {
    "name": "ipython",
    "version": 3
   },
   "file_extension": ".py",
   "mimetype": "text/x-python",
   "name": "python",
   "nbconvert_exporter": "python",
   "pygments_lexer": "ipython3",
   "version": "3.7.6"
  }
 },
 "nbformat": 4,
 "nbformat_minor": 4
}
