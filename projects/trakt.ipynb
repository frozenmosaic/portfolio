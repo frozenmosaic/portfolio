{
 "cells": [
  {
   "cell_type": "code",
   "execution_count": 49,
   "metadata": {},
   "outputs": [],
   "source": [
    "import requests\n",
    "import pandas as pd\n",
    "import numpy as np\n",
    "import json\n",
    "import datetime\n",
    "from dotenv import load_dotenv\n",
    "import os\n",
    "\n",
    "load_dotenv()\n",
    "token = os.getenv('trakt_token')\n",
    "cid = os.getenv('trakt_cid')\n",
    "\n",
    "headers = {\n",
    "  'Content-Type': 'application/json',\n",
    "  'Authorization': 'Bearer ' + token,\n",
    "  'trakt-api-version': '2',\n",
    "  'trakt-api-key': cid\n",
    "}"
   ]
  },
  {
   "cell_type": "code",
   "execution_count": 3,
   "metadata": {},
   "outputs": [],
   "source": [
    "ratings = pd.read_csv('trakt-letterboxd/ratings.csv', header=0)\n",
    "ratings['Rating'] = ratings['Rating']*2\n",
    "\n",
    "w = requests.get('https://api.trakt.tv/sync/watched/movies/', headers=headers)\n",
    "df = w.json()"
   ]
  },
  {
   "cell_type": "code",
   "execution_count": 4,
   "metadata": {},
   "outputs": [
    {
     "data": {
      "text/html": [
       "<div>\n",
       "<style scoped>\n",
       "    .dataframe tbody tr th:only-of-type {\n",
       "        vertical-align: middle;\n",
       "    }\n",
       "\n",
       "    .dataframe tbody tr th {\n",
       "        vertical-align: top;\n",
       "    }\n",
       "\n",
       "    .dataframe thead th {\n",
       "        text-align: right;\n",
       "    }\n",
       "</style>\n",
       "<table border=\"1\" class=\"dataframe\">\n",
       "  <thead>\n",
       "    <tr style=\"text-align: right;\">\n",
       "      <th></th>\n",
       "      <th>imdb</th>\n",
       "      <th>titles</th>\n",
       "      <th>slug</th>\n",
       "      <th>Rating</th>\n",
       "    </tr>\n",
       "  </thead>\n",
       "  <tbody>\n",
       "    <tr>\n",
       "      <th>0</th>\n",
       "      <td>tt0468569</td>\n",
       "      <td>The Dark Knight</td>\n",
       "      <td>the-dark-knight-2008</td>\n",
       "      <td>10.0</td>\n",
       "    </tr>\n",
       "    <tr>\n",
       "      <th>1</th>\n",
       "      <td>tt12221748</td>\n",
       "      <td>Becoming</td>\n",
       "      <td>becoming-2020-05-06</td>\n",
       "      <td>8.0</td>\n",
       "    </tr>\n",
       "    <tr>\n",
       "      <th>2</th>\n",
       "      <td>tt0169547</td>\n",
       "      <td>American Beauty</td>\n",
       "      <td>american-beauty-1999</td>\n",
       "      <td>10.0</td>\n",
       "    </tr>\n",
       "    <tr>\n",
       "      <th>3</th>\n",
       "      <td>tt0209144</td>\n",
       "      <td>Memento</td>\n",
       "      <td>memento-2000</td>\n",
       "      <td>6.0</td>\n",
       "    </tr>\n",
       "    <tr>\n",
       "      <th>4</th>\n",
       "      <td>tt0075314</td>\n",
       "      <td>Taxi Driver</td>\n",
       "      <td>taxi-driver-1976</td>\n",
       "      <td>8.0</td>\n",
       "    </tr>\n",
       "  </tbody>\n",
       "</table>\n",
       "</div>"
      ],
      "text/plain": [
       "         imdb           titles                  slug  Rating\n",
       "0   tt0468569  The Dark Knight  the-dark-knight-2008    10.0\n",
       "1  tt12221748         Becoming   becoming-2020-05-06     8.0\n",
       "2   tt0169547  American Beauty  american-beauty-1999    10.0\n",
       "3   tt0209144          Memento          memento-2000     6.0\n",
       "4   tt0075314      Taxi Driver      taxi-driver-1976     8.0"
      ]
     },
     "execution_count": 4,
     "metadata": {},
     "output_type": "execute_result"
    }
   ],
   "source": [
    "imdb = []\n",
    "titles = []\n",
    "slug = []\n",
    "for i in df:\n",
    "    imdb.append(i['movie']['ids']['imdb'])\n",
    "    titles.append(i['movie']['title'])\n",
    "    slug.append(i['movie']['ids']['slug'])\n",
    "    \n",
    "it = pd.DataFrame(data={'imdb':imdb, 'titles':titles, 'slug':slug})\n",
    "rt = pd.merge(it, ratings, left_on='titles', right_on='Name', how='inner')\n",
    "rt.drop(['Date', 'Year', 'Letterboxd URI', 'Name'], axis=1, inplace=True)\n",
    "rt.head()"
   ]
  },
  {
   "cell_type": "code",
   "execution_count": 5,
   "metadata": {},
   "outputs": [],
   "source": [
    "# data for POST ratings\n",
    "dt = []\n",
    "for i, r in rt.iterrows():\n",
    "    dt.append(dict(rating=r['Rating'], ids=dict(imdb=r['imdb'])))\n",
    "\n",
    "dt = dict(movies=dt)"
   ]
  },
  {
   "cell_type": "code",
   "execution_count": 75,
   "metadata": {},
   "outputs": [
    {
     "data": {
      "text/plain": [
       "201"
      ]
     },
     "execution_count": 75,
     "metadata": {},
     "output_type": "execute_result"
    }
   ],
   "source": [
    "add_rt = requests.post('https://api.trakt.tv/sync/ratings', headers=headers, data=json.dumps(dt))\n",
    "add_rt.status_code"
   ]
  },
  {
   "cell_type": "markdown",
   "metadata": {},
   "source": [
    "```\n",
    "{\n",
    "    \"movies\": [\n",
    "        {\n",
    "            \"rated_at\": \"2014-09-01T09:10:11.000Z\",\n",
    "            \"rating\": 5,\n",
    "            \"title\": \"Batman Begins\",\n",
    "            \"year\": 2005,\n",
    "            \"ids\": {\n",
    "                \"trakt\": 1,\n",
    "                \"slug\": \"batman-begins-2005\",\n",
    "                \"imdb\": \"tt0372784\",\n",
    "                \"tmdb\": 272\n",
    "            }\n",
    "        },\n",
    "        {\n",
    "            \"rating\": 10,\n",
    "            \"ids\": {\n",
    "                \"imdb\": \"tt0000111\"\n",
    "            }\n",
    "        }\n",
    "    ]\n",
    "}\n",
    "```"
   ]
  },
  {
   "cell_type": "code",
   "execution_count": 25,
   "metadata": {},
   "outputs": [],
   "source": [
    "rec = requests.get('https://api.trakt.tv/recommendations/movies', headers=headers)\n",
    "\n",
    "rec_mv = rec.json()"
   ]
  },
  {
   "cell_type": "code",
   "execution_count": 34,
   "metadata": {},
   "outputs": [
    {
     "data": {
      "text/html": [
       "<div>\n",
       "<style scoped>\n",
       "    .dataframe tbody tr th:only-of-type {\n",
       "        vertical-align: middle;\n",
       "    }\n",
       "\n",
       "    .dataframe tbody tr th {\n",
       "        vertical-align: top;\n",
       "    }\n",
       "\n",
       "    .dataframe thead th {\n",
       "        text-align: right;\n",
       "    }\n",
       "</style>\n",
       "<table border=\"1\" class=\"dataframe\">\n",
       "  <thead>\n",
       "    <tr style=\"text-align: right;\">\n",
       "      <th></th>\n",
       "      <th>imdb</th>\n",
       "      <th>titles</th>\n",
       "      <th>slug</th>\n",
       "      <th>Rating</th>\n",
       "    </tr>\n",
       "  </thead>\n",
       "  <tbody>\n",
       "    <tr>\n",
       "      <th>0</th>\n",
       "      <td>tt0468569</td>\n",
       "      <td>The Dark Knight</td>\n",
       "      <td>the-dark-knight-2008</td>\n",
       "      <td>10.0</td>\n",
       "    </tr>\n",
       "    <tr>\n",
       "      <th>1</th>\n",
       "      <td>tt12221748</td>\n",
       "      <td>Becoming</td>\n",
       "      <td>becoming-2020-05-06</td>\n",
       "      <td>8.0</td>\n",
       "    </tr>\n",
       "    <tr>\n",
       "      <th>2</th>\n",
       "      <td>tt0169547</td>\n",
       "      <td>American Beauty</td>\n",
       "      <td>american-beauty-1999</td>\n",
       "      <td>10.0</td>\n",
       "    </tr>\n",
       "    <tr>\n",
       "      <th>3</th>\n",
       "      <td>tt0209144</td>\n",
       "      <td>Memento</td>\n",
       "      <td>memento-2000</td>\n",
       "      <td>6.0</td>\n",
       "    </tr>\n",
       "    <tr>\n",
       "      <th>4</th>\n",
       "      <td>tt0075314</td>\n",
       "      <td>Taxi Driver</td>\n",
       "      <td>taxi-driver-1976</td>\n",
       "      <td>8.0</td>\n",
       "    </tr>\n",
       "    <tr>\n",
       "      <th>...</th>\n",
       "      <td>...</td>\n",
       "      <td>...</td>\n",
       "      <td>...</td>\n",
       "      <td>...</td>\n",
       "    </tr>\n",
       "    <tr>\n",
       "      <th>97</th>\n",
       "      <td>tt8613070</td>\n",
       "      <td>Portrait of a Lady on Fire</td>\n",
       "      <td>portrait-of-a-lady-on-fire-2019</td>\n",
       "      <td>10.0</td>\n",
       "    </tr>\n",
       "    <tr>\n",
       "      <th>98</th>\n",
       "      <td>tt8404614</td>\n",
       "      <td>The Two Popes</td>\n",
       "      <td>the-two-popes-2019</td>\n",
       "      <td>10.0</td>\n",
       "    </tr>\n",
       "    <tr>\n",
       "      <th>99</th>\n",
       "      <td>tt8637428</td>\n",
       "      <td>The Farewell</td>\n",
       "      <td>the-farewell-2019</td>\n",
       "      <td>7.0</td>\n",
       "    </tr>\n",
       "    <tr>\n",
       "      <th>100</th>\n",
       "      <td>tt9683478</td>\n",
       "      <td>The Half of It</td>\n",
       "      <td>the-half-of-it-2020</td>\n",
       "      <td>5.0</td>\n",
       "    </tr>\n",
       "    <tr>\n",
       "      <th>101</th>\n",
       "      <td>tt6285944</td>\n",
       "      <td>The Banker</td>\n",
       "      <td>the-banker-2020</td>\n",
       "      <td>8.0</td>\n",
       "    </tr>\n",
       "  </tbody>\n",
       "</table>\n",
       "<p>102 rows × 4 columns</p>\n",
       "</div>"
      ],
      "text/plain": [
       "           imdb                      titles                             slug  \\\n",
       "0     tt0468569             The Dark Knight             the-dark-knight-2008   \n",
       "1    tt12221748                    Becoming              becoming-2020-05-06   \n",
       "2     tt0169547             American Beauty             american-beauty-1999   \n",
       "3     tt0209144                     Memento                     memento-2000   \n",
       "4     tt0075314                 Taxi Driver                 taxi-driver-1976   \n",
       "..          ...                         ...                              ...   \n",
       "97    tt8613070  Portrait of a Lady on Fire  portrait-of-a-lady-on-fire-2019   \n",
       "98    tt8404614               The Two Popes               the-two-popes-2019   \n",
       "99    tt8637428                The Farewell                the-farewell-2019   \n",
       "100   tt9683478              The Half of It              the-half-of-it-2020   \n",
       "101   tt6285944                  The Banker                  the-banker-2020   \n",
       "\n",
       "     Rating  \n",
       "0      10.0  \n",
       "1       8.0  \n",
       "2      10.0  \n",
       "3       6.0  \n",
       "4       8.0  \n",
       "..      ...  \n",
       "97     10.0  \n",
       "98     10.0  \n",
       "99      7.0  \n",
       "100     5.0  \n",
       "101     8.0  \n",
       "\n",
       "[102 rows x 4 columns]"
      ]
     },
     "execution_count": 34,
     "metadata": {},
     "output_type": "execute_result"
    }
   ],
   "source": [
    "rt"
   ]
  },
  {
   "cell_type": "code",
   "execution_count": 35,
   "metadata": {},
   "outputs": [
    {
     "data": {
      "text/plain": [
       "{'watchers': 5482,\n",
       " 'plays': 7310,\n",
       " 'collectors': 8761,\n",
       " 'comments': 19,\n",
       " 'lists': 3992,\n",
       " 'votes': 1025}"
      ]
     },
     "execution_count": 35,
     "metadata": {},
     "output_type": "execute_result"
    }
   ],
   "source": [
    "stats = requests.get('https://api.trakt.tv/movies/portrait-of-a-lady-on-fire-2019/stats', headers=headers)\n",
    "stats.json()"
   ]
  },
  {
   "cell_type": "code",
   "execution_count": 37,
   "metadata": {},
   "outputs": [
    {
     "data": {
      "text/plain": [
       "200"
      ]
     },
     "execution_count": 37,
     "metadata": {},
     "output_type": "execute_result"
    }
   ],
   "source": [
    "omdb_api = os.getenv('omdb_api')\n",
    "url = 'http://www.omdbapi.com/?apikey={}&i=tt8613070'.format('omdb_api')\n",
    "o = requests.get(url)\n",
    "o.status_code"
   ]
  },
  {
   "cell_type": "code",
   "execution_count": 38,
   "metadata": {},
   "outputs": [
    {
     "data": {
      "text/plain": [
       "{'Title': 'Portrait of a Lady on Fire',\n",
       " 'Year': '2019',\n",
       " 'Rated': 'R',\n",
       " 'Released': '14 Feb 2020',\n",
       " 'Runtime': '122 min',\n",
       " 'Genre': 'Drama, Romance',\n",
       " 'Director': 'Céline Sciamma',\n",
       " 'Writer': 'Céline Sciamma (screenplay)',\n",
       " 'Actors': 'Noémie Merlant, Adèle Haenel, Luàna Bajrami, Valeria Golino',\n",
       " 'Plot': 'On an isolated island in Brittany at the end of the eighteenth century, a female painter is obliged to paint a wedding portrait of a young woman.',\n",
       " 'Language': 'French, Italian',\n",
       " 'Country': 'France',\n",
       " 'Awards': 'Nominated for 1 Golden Globe. Another 43 wins & 124 nominations.',\n",
       " 'Poster': 'https://m.media-amazon.com/images/M/MV5BNjgwNjkwOWYtYmM3My00NzI1LTk5OGItYWY0OTMyZTY4OTg2XkEyXkFqcGdeQXVyODk4OTc3MTY@._V1_SX300.jpg',\n",
       " 'Ratings': [{'Source': 'Internet Movie Database', 'Value': '8.2/10'},\n",
       "  {'Source': 'Metacritic', 'Value': '95/100'}],\n",
       " 'Metascore': '95',\n",
       " 'imdbRating': '8.2',\n",
       " 'imdbVotes': '32,080',\n",
       " 'imdbID': 'tt8613070',\n",
       " 'Type': 'movie',\n",
       " 'DVD': 'N/A',\n",
       " 'BoxOffice': 'N/A',\n",
       " 'Production': 'N/A',\n",
       " 'Website': 'N/A',\n",
       " 'Response': 'True'}"
      ]
     },
     "execution_count": 38,
     "metadata": {},
     "output_type": "execute_result"
    }
   ],
   "source": [
    "o.json()"
   ]
  },
  {
   "cell_type": "code",
   "execution_count": 8,
   "metadata": {},
   "outputs": [],
   "source": [
    "rt.to_csv('ratings.csv')"
   ]
  },
  {
   "cell_type": "code",
   "execution_count": 19,
   "metadata": {},
   "outputs": [
    {
     "data": {
      "text/plain": [
       "201"
      ]
     },
     "execution_count": 19,
     "metadata": {},
     "output_type": "execute_result"
    }
   ],
   "source": [
    "w = requests.post('https://api.trakt.tv/sync/ratings', headers=headers, \n",
    "                  data=json.dumps(dict(movie=[dict(rating=7.0), dict(id=dict(imdb='tt0058625'))])))\n",
    "w.status_code"
   ]
  },
  {
   "cell_type": "code",
   "execution_count": 20,
   "metadata": {},
   "outputs": [
    {
     "data": {
      "text/plain": [
       "201"
      ]
     },
     "execution_count": 20,
     "metadata": {},
     "output_type": "execute_result"
    }
   ],
   "source": [
    "h = requests.post('https://api.trakt.tv/sync/history', headers=headers,\n",
    "                 data=json.dumps(dict(ids=dict(imdb='tt0058625'))))\n",
    "h.status_code"
   ]
  },
  {
   "cell_type": "code",
   "execution_count": 45,
   "metadata": {},
   "outputs": [],
   "source": [
    "# add new movies\n",
    "ids = ['tt8290698']\n",
    "rts = [8]\n",
    "\n",
    "dt = []\n",
    "now = datetime.datetime.now().strftime('%Y-%m-%d %H:%M:%S')\n",
    "for i in ids:\n",
    "    dt.append(dict(watched_at=now, ids=dict(imdb=i)))\n",
    "\n",
    "dt = dict(movies=dt)\n",
    "\n",
    "h = requests.post('https://api.trakt.tv/sync/history', headers=headers, \n",
    "                  data=json.dumps(dt))\n",
    "\n",
    "dt = []\n",
    "for i, r in zip(ids, rts):\n",
    "    dt.append(dict(rating=r, ids=dict(imdb=i)))\n",
    "\n",
    "dt = dict(movies=dt)\n",
    "\n",
    "r = requests.post('https://api.trakt.tv/sync/ratings', headers=headers, \n",
    "                  data=json.dumps(dt))"
   ]
  }
 ],
 "metadata": {
  "kernelspec": {
   "display_name": "Python 3",
   "language": "python",
   "name": "python3"
  },
  "language_info": {
   "codemirror_mode": {
    "name": "ipython",
    "version": 3
   },
   "file_extension": ".py",
   "mimetype": "text/x-python",
   "name": "python",
   "nbconvert_exporter": "python",
   "pygments_lexer": "ipython3",
   "version": "3.7.6"
  }
 },
 "nbformat": 4,
 "nbformat_minor": 4
}
