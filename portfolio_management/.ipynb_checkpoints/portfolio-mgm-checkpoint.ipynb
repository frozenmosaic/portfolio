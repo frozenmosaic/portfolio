{
 "cells": [
  {
   "cell_type": "markdown",
   "metadata": {},
   "source": [
    "# Using Python Libraries (FinQuant, Empyrical) for Portfolio Management"
   ]
  },
  {
   "cell_type": "code",
   "execution_count": 4,
   "metadata": {},
   "outputs": [],
   "source": [
    "import pandas as pd\n",
    "import numpy as np\n",
    "import matplotlib.pyplot as plt\n",
    "import portfolio_mgm as pm\n",
    "\n",
    "%load_ext lab_black"
   ]
  },
  {
   "cell_type": "code",
   "execution_count": 309,
   "metadata": {},
   "outputs": [
    {
     "name": "stdout",
     "output_type": "stream",
     "text": [
      "KO\n",
      "\n",
      "0.47164180188845406\n",
      "30.86012125283905\n",
      "\n",
      "\n",
      "VGT\n",
      "\n",
      "1.1372323664221624\n",
      "14.137799135868159\n",
      "\n",
      "\n"
     ]
    }
   ],
   "source": [
    "# Using Empyrical to analyze individual stocks\n",
    "import empyrical as ep\n",
    "\n",
    "period = \"weekly\"\n",
    "\n",
    "for t in ['KO', 'VGT']:\n",
    "    prices = master[t]\n",
    "    print(t + \"\\n\")\n",
    "    rets = ep.simple_returns(prices)\n",
    "    print(ep.cagr(rets, period))\n",
    "    print(ep.sharpe_ratio(prices, risk_free=0.02, period=period))\n",
    "    print(\"\\n\")"
   ]
  },
  {
   "cell_type": "markdown",
   "metadata": {},
   "source": [
    "## Define Sample Portfolio"
   ]
  },
  {
   "cell_type": "code",
   "execution_count": 25,
   "metadata": {},
   "outputs": [],
   "source": [
    "sample_pf = [\"SPY\", \"BND\", \"AAPL\", \"UNH\", \"MA\", \"V\", \"NKE\"]"
   ]
  },
  {
   "cell_type": "code",
   "execution_count": 36,
   "metadata": {},
   "outputs": [
    {
     "name": "stdout",
     "output_type": "stream",
     "text": [
      "queried:  []\n",
      "read:  ['SPY', 'BND', 'AAPL', 'UNH', 'MA', 'V', 'NKE']\n"
     ]
    }
   ],
   "source": [
    "df1 = YFinanceCrawler(sample_pf).priceDf()\n",
    "pf1 = build_portfolio(data=df1)"
   ]
  },
  {
   "cell_type": "code",
   "execution_count": 37,
   "metadata": {},
   "outputs": [
    {
     "data": {
      "image/png": "[encoded data removed]",
      "text/plain": [
       "<Figure size 432x288 with 1 Axes>"
      ]
     },
     "metadata": {
      "needs_background": "light"
     },
     "output_type": "display_data"
    }
   ],
   "source": [
    "pf1.ef_plot_efrontier()\n",
    "# plt.savefig(\"../../docs/assets/img/ivst-1.png\", dpi=100, bbox_inches=\"tight\")"
   ]
  },
  {
   "cell_type": "code",
   "execution_count": 11,
   "metadata": {},
   "outputs": [
    {
     "data": {
      "image/png": "[encoded data removed]",
      "text/plain": [
       "<Figure size 432x288 with 1 Axes>"
      ]
     },
     "metadata": {
      "needs_background": "light"
     },
     "output_type": "display_data"
    }
   ],
   "source": [
    "hpf1.ef_plot_optimal_portfolios()"
   ]
  },
  {
   "cell_type": "markdown",
   "metadata": {},
   "source": [
    "## Fundamentals"
   ]
  },
  {
   "cell_type": "code",
   "execution_count": 17,
   "metadata": {},
   "outputs": [],
   "source": [
    "import os\n",
    "from dotenv import load_dotenv\n",
    "from pathlib import Path\n",
    "\n",
    "env_path = Path(\"..\") / \".env\"\n",
    "load_dotenv(dotenv_path=env_path)\n",
    "usf_token = os.getenv(\"usf_token\")"
   ]
  },
  {
   "cell_type": "code",
   "execution_count": 20,
   "metadata": {},
   "outputs": [],
   "source": [
    "cik_dict = dict(aapl=\"0000320193\")"
   ]
  },
  {
   "cell_type": "code",
   "execution_count": null,
   "metadata": {},
   "outputs": [],
   "source": [
    "# tkFid = [\"AAL\", \"AAPL\", \"BAC\", \"BND\", \"DAL\", \"GS\", \"INTC\", \"UNH\", \"VOO\", \"XAR\", \"XOM\"]\n",
    "# dfFid, pfFid = buildPf(tkFid)\n",
    "# stats(pfFid)\n",
    "\n",
    "tk5 = [\n",
    "    \"SPY\",\n",
    "    \"XAR\",\n",
    "    \"BND\",\n",
    "    \"VTV\",\n",
    "    \"VGT\",\n",
    "    \"XLF\",\n",
    "    \"AAPL\",\n",
    "    \"UNH\",\n",
    "    \"MA\",\n",
    "    \"V\",\n",
    "    \"INTC\",\n",
    "    \"NKE\",\n",
    "    \"MSFT\",\n",
    "]\n",
    "df5, pf5 = buildPf(tk5)\n",
    "stats(pf5)"
   ]
  }
 ],
 "metadata": {
  "kernelspec": {
   "display_name": "Python 3",
   "language": "python",
   "name": "python3"
  },
  "language_info": {
   "codemirror_mode": {
    "name": "ipython",
    "version": 3
   },
   "file_extension": ".py",
   "mimetype": "text/x-python",
   "name": "python",
   "nbconvert_exporter": "python",
   "pygments_lexer": "ipython3",
   "version": "3.7.6"
  }
 },
 "nbformat": 4,
 "nbformat_minor": 4
}
